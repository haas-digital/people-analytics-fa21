{
 "cells": [
  {
   "cell_type": "markdown",
   "metadata": {},
   "source": [
    "# People Analytics\n",
    "## Predicting Employee Attrition with R\n",
    "\n",
    "<img src=\"images/office-and-workers-in-barcelona-spain.jpg\" />\n",
    "\n",
    "<br>\n",
    "\n",
    "*In this notebook, we will walk through solving a classification problem using machine learning. To do so, we will introduce the Scikit-Learn machine learning library for Python.*\n",
    "\n",
    "### Table of Contents\n",
    "\n",
    "<a href=\"#sectioncase\">Case Study: Employee Attrition at IBM</a>\n",
    "\n",
    "<a href=\"#sectiondata\"> The Dataset </a>\n",
    "\n",
    "<a href=\"#sectionlogistic\"> Logistic Regression </a>\n",
    "\n",
    "<ol start=\"9\">\n",
    "    <li><a href=\"#section9\">Machine Learning</a>\n",
    "        <ol type=a>\n",
    "            <br>\n",
    "            <li><a href=\"#section9a\">The K-Nearest Neighbors Algorithm</a></li>\n",
    "            <br>\n",
    "            <li><a href=\"#section9b\">Using Scikit-Learn: An Example</a></li>\n",
    "            <br>\n",
    "            <li><a href=\"#section9c\">Using Scikit-Learn: KNN</a></li>            \n",
    "        </ol>\n",
    "    </li>\n",
    "    </ol>"
   ]
  },
  {
   "cell_type": "markdown",
   "metadata": {},
   "source": [
    "## <a id= \"sectioncase\">Case Study: Employee Attrition at IBM </a>\n",
    "\n",
    "*Employee attrition* refers to a decrease in employees at a company where the company does not intend to fill the vacancy afterward. Attrition, caused by resignations, retirements, or the elimination of job positions, is important for businesses to anticipate so they can keep costs low and properly distribute workloads.\n",
    "\n",
    "Today, we'll try to predict whether or not an employee will leave their job using [a data set created by IBM](https://www.kaggle.com/pavansubhasht/ibm-hr-analytics-attrition-dataset/home). Because employee data is confidential, IBM's data set is fictional- it does not represent real employees. However, the data and the problem are structured very similarly to how actual companies such as IBM are approaching this very real problem.\n",
    "\n",
    "<div class=\"alert alert-info\">\n",
    "    <b>NOTE</b>: we've made some changes to the data set to make this assignment simpler- things like renaming values, dropping confusing features, and adding definitions for columns. Please refer to the data dictionary below and <b>not</b> the one at the link when completing this assignment.\n",
    "    </div>\n",
    "\n",
    "Run the following cell to load the data."
   ]
  },
  {
   "cell_type": "markdown",
   "metadata": {},
   "source": [
    "## <a name=\"sectiondata\"> The Dataset </a>\n"
   ]
  },
  {
   "cell_type": "code",
   "execution_count": 46,
   "metadata": {},
   "outputs": [
    {
     "data": {
      "text/html": [
       "<table>\n",
       "<caption>A data.frame: 6 × 35</caption>\n",
       "<thead>\n",
       "\t<tr><th scope=col>Age</th><th scope=col>Attrition</th><th scope=col>BusinessTravel</th><th scope=col>DailyRate</th><th scope=col>Department</th><th scope=col>DistanceFromHome</th><th scope=col>Education</th><th scope=col>EducationField</th><th scope=col>EmployeeCount</th><th scope=col>EmployeeNumber</th><th scope=col>⋯</th><th scope=col>RelationshipSatisfaction</th><th scope=col>StandardHours</th><th scope=col>StockOptionLevel</th><th scope=col>TotalWorkingYears</th><th scope=col>TrainingTimesLastYear</th><th scope=col>WorkLifeBalance</th><th scope=col>YearsAtCompany</th><th scope=col>YearsInCurrentRole</th><th scope=col>YearsSinceLastPromotion</th><th scope=col>YearsWithCurrManager</th></tr>\n",
       "\t<tr><th scope=col>&lt;int&gt;</th><th scope=col>&lt;fct&gt;</th><th scope=col>&lt;fct&gt;</th><th scope=col>&lt;int&gt;</th><th scope=col>&lt;fct&gt;</th><th scope=col>&lt;int&gt;</th><th scope=col>&lt;int&gt;</th><th scope=col>&lt;fct&gt;</th><th scope=col>&lt;int&gt;</th><th scope=col>&lt;int&gt;</th><th scope=col>⋯</th><th scope=col>&lt;int&gt;</th><th scope=col>&lt;int&gt;</th><th scope=col>&lt;int&gt;</th><th scope=col>&lt;int&gt;</th><th scope=col>&lt;int&gt;</th><th scope=col>&lt;int&gt;</th><th scope=col>&lt;int&gt;</th><th scope=col>&lt;int&gt;</th><th scope=col>&lt;int&gt;</th><th scope=col>&lt;int&gt;</th></tr>\n",
       "</thead>\n",
       "<tbody>\n",
       "\t<tr><td>41</td><td>Yes</td><td>Travel_Rarely    </td><td>1102</td><td>Sales                 </td><td>1</td><td>2</td><td>Life Sciences</td><td>1</td><td>1</td><td>⋯</td><td>1</td><td>80</td><td>0</td><td> 8</td><td>0</td><td>1</td><td> 6</td><td>4</td><td>0</td><td>5</td></tr>\n",
       "\t<tr><td>49</td><td>No </td><td>Travel_Frequently</td><td> 279</td><td>Research &amp; Development</td><td>8</td><td>1</td><td>Life Sciences</td><td>1</td><td>2</td><td>⋯</td><td>4</td><td>80</td><td>1</td><td>10</td><td>3</td><td>3</td><td>10</td><td>7</td><td>1</td><td>7</td></tr>\n",
       "\t<tr><td>37</td><td>Yes</td><td><span style=white-space:pre-wrap>Travel_Rarely    </span></td><td>1373</td><td>Research &amp; Development</td><td>2</td><td>2</td><td><span style=white-space:pre-wrap>Other        </span></td><td>1</td><td>4</td><td>⋯</td><td>2</td><td>80</td><td>0</td><td> 7</td><td>3</td><td>3</td><td> 0</td><td>0</td><td>0</td><td>0</td></tr>\n",
       "\t<tr><td>33</td><td>No </td><td>Travel_Frequently</td><td>1392</td><td>Research &amp; Development</td><td>3</td><td>4</td><td>Life Sciences</td><td>1</td><td>5</td><td>⋯</td><td>3</td><td>80</td><td>0</td><td> 8</td><td>3</td><td>3</td><td> 8</td><td>7</td><td>3</td><td>0</td></tr>\n",
       "\t<tr><td>27</td><td>No </td><td><span style=white-space:pre-wrap>Travel_Rarely    </span></td><td> 591</td><td>Research &amp; Development</td><td>2</td><td>1</td><td><span style=white-space:pre-wrap>Medical      </span></td><td>1</td><td>7</td><td>⋯</td><td>4</td><td>80</td><td>1</td><td> 6</td><td>3</td><td>3</td><td> 2</td><td>2</td><td>2</td><td>2</td></tr>\n",
       "\t<tr><td>32</td><td>No </td><td>Travel_Frequently</td><td>1005</td><td>Research &amp; Development</td><td>2</td><td>2</td><td>Life Sciences</td><td>1</td><td>8</td><td>⋯</td><td>3</td><td>80</td><td>0</td><td> 8</td><td>2</td><td>2</td><td> 7</td><td>7</td><td>3</td><td>6</td></tr>\n",
       "</tbody>\n",
       "</table>\n"
      ],
      "text/latex": [
       "A data.frame: 6 × 35\n",
       "\\begin{tabular}{r|lllllllllllllllllllllllllllllllllll}\n",
       " Age & Attrition & BusinessTravel & DailyRate & Department & DistanceFromHome & Education & EducationField & EmployeeCount & EmployeeNumber & EnvironmentSatisfaction & Gender & HourlyRate & JobInvolvement & JobLevel & JobRole & JobSatisfaction & MaritalStatus & MonthlyIncome & MonthlyRate & NumCompaniesWorked & Over18 & OverTime & PercentSalaryHike & PerformanceRating & RelationshipSatisfaction & StandardHours & StockOptionLevel & TotalWorkingYears & TrainingTimesLastYear & WorkLifeBalance & YearsAtCompany & YearsInCurrentRole & YearsSinceLastPromotion & YearsWithCurrManager\\\\\n",
       " <int> & <fct> & <fct> & <int> & <fct> & <int> & <int> & <fct> & <int> & <int> & <int> & <fct> & <int> & <int> & <int> & <fct> & <int> & <fct> & <int> & <int> & <int> & <fct> & <fct> & <int> & <int> & <int> & <int> & <int> & <int> & <int> & <int> & <int> & <int> & <int> & <int>\\\\\n",
       "\\hline\n",
       "\t 41 & Yes & Travel\\_Rarely     & 1102 & Sales                  & 1 & 2 & Life Sciences & 1 & 1 & 2 & Female & 94 & 3 & 2 & Sales Executive       & 4 & Single  & 5993 & 19479 & 8 & Y & Yes & 11 & 3 & 1 & 80 & 0 &  8 & 0 & 1 &  6 & 4 & 0 & 5\\\\\n",
       "\t 49 & No  & Travel\\_Frequently &  279 & Research \\& Development & 8 & 1 & Life Sciences & 1 & 2 & 3 & Male   & 61 & 2 & 2 & Research Scientist    & 2 & Married & 5130 & 24907 & 1 & Y & No  & 23 & 4 & 4 & 80 & 1 & 10 & 3 & 3 & 10 & 7 & 1 & 7\\\\\n",
       "\t 37 & Yes & Travel\\_Rarely     & 1373 & Research \\& Development & 2 & 2 & Other         & 1 & 4 & 4 & Male   & 92 & 2 & 1 & Laboratory Technician & 3 & Single  & 2090 &  2396 & 6 & Y & Yes & 15 & 3 & 2 & 80 & 0 &  7 & 3 & 3 &  0 & 0 & 0 & 0\\\\\n",
       "\t 33 & No  & Travel\\_Frequently & 1392 & Research \\& Development & 3 & 4 & Life Sciences & 1 & 5 & 4 & Female & 56 & 3 & 1 & Research Scientist    & 3 & Married & 2909 & 23159 & 1 & Y & Yes & 11 & 3 & 3 & 80 & 0 &  8 & 3 & 3 &  8 & 7 & 3 & 0\\\\\n",
       "\t 27 & No  & Travel\\_Rarely     &  591 & Research \\& Development & 2 & 1 & Medical       & 1 & 7 & 1 & Male   & 40 & 3 & 1 & Laboratory Technician & 2 & Married & 3468 & 16632 & 9 & Y & No  & 12 & 3 & 4 & 80 & 1 &  6 & 3 & 3 &  2 & 2 & 2 & 2\\\\\n",
       "\t 32 & No  & Travel\\_Frequently & 1005 & Research \\& Development & 2 & 2 & Life Sciences & 1 & 8 & 4 & Male   & 79 & 3 & 1 & Laboratory Technician & 4 & Single  & 3068 & 11864 & 0 & Y & No  & 13 & 3 & 3 & 80 & 0 &  8 & 2 & 2 &  7 & 7 & 3 & 6\\\\\n",
       "\\end{tabular}\n"
      ],
      "text/markdown": [
       "\n",
       "A data.frame: 6 × 35\n",
       "\n",
       "| Age &lt;int&gt; | Attrition &lt;fct&gt; | BusinessTravel &lt;fct&gt; | DailyRate &lt;int&gt; | Department &lt;fct&gt; | DistanceFromHome &lt;int&gt; | Education &lt;int&gt; | EducationField &lt;fct&gt; | EmployeeCount &lt;int&gt; | EmployeeNumber &lt;int&gt; | ⋯ ⋯ | RelationshipSatisfaction &lt;int&gt; | StandardHours &lt;int&gt; | StockOptionLevel &lt;int&gt; | TotalWorkingYears &lt;int&gt; | TrainingTimesLastYear &lt;int&gt; | WorkLifeBalance &lt;int&gt; | YearsAtCompany &lt;int&gt; | YearsInCurrentRole &lt;int&gt; | YearsSinceLastPromotion &lt;int&gt; | YearsWithCurrManager &lt;int&gt; |\n",
       "|---|---|---|---|---|---|---|---|---|---|---|---|---|---|---|---|---|---|---|---|---|\n",
       "| 41 | Yes | Travel_Rarely     | 1102 | Sales                  | 1 | 2 | Life Sciences | 1 | 1 | ⋯ | 1 | 80 | 0 |  8 | 0 | 1 |  6 | 4 | 0 | 5 |\n",
       "| 49 | No  | Travel_Frequently |  279 | Research &amp; Development | 8 | 1 | Life Sciences | 1 | 2 | ⋯ | 4 | 80 | 1 | 10 | 3 | 3 | 10 | 7 | 1 | 7 |\n",
       "| 37 | Yes | Travel_Rarely     | 1373 | Research &amp; Development | 2 | 2 | Other         | 1 | 4 | ⋯ | 2 | 80 | 0 |  7 | 3 | 3 |  0 | 0 | 0 | 0 |\n",
       "| 33 | No  | Travel_Frequently | 1392 | Research &amp; Development | 3 | 4 | Life Sciences | 1 | 5 | ⋯ | 3 | 80 | 0 |  8 | 3 | 3 |  8 | 7 | 3 | 0 |\n",
       "| 27 | No  | Travel_Rarely     |  591 | Research &amp; Development | 2 | 1 | Medical       | 1 | 7 | ⋯ | 4 | 80 | 1 |  6 | 3 | 3 |  2 | 2 | 2 | 2 |\n",
       "| 32 | No  | Travel_Frequently | 1005 | Research &amp; Development | 2 | 2 | Life Sciences | 1 | 8 | ⋯ | 3 | 80 | 0 |  8 | 2 | 2 |  7 | 7 | 3 | 6 |\n",
       "\n"
      ],
      "text/plain": [
       "  Age Attrition BusinessTravel    DailyRate Department            \n",
       "1 41  Yes       Travel_Rarely     1102      Sales                 \n",
       "2 49  No        Travel_Frequently  279      Research & Development\n",
       "3 37  Yes       Travel_Rarely     1373      Research & Development\n",
       "4 33  No        Travel_Frequently 1392      Research & Development\n",
       "5 27  No        Travel_Rarely      591      Research & Development\n",
       "6 32  No        Travel_Frequently 1005      Research & Development\n",
       "  DistanceFromHome Education EducationField EmployeeCount EmployeeNumber ⋯\n",
       "1 1                2         Life Sciences  1             1              ⋯\n",
       "2 8                1         Life Sciences  1             2              ⋯\n",
       "3 2                2         Other          1             4              ⋯\n",
       "4 3                4         Life Sciences  1             5              ⋯\n",
       "5 2                1         Medical        1             7              ⋯\n",
       "6 2                2         Life Sciences  1             8              ⋯\n",
       "  RelationshipSatisfaction StandardHours StockOptionLevel TotalWorkingYears\n",
       "1 1                        80            0                 8               \n",
       "2 4                        80            1                10               \n",
       "3 2                        80            0                 7               \n",
       "4 3                        80            0                 8               \n",
       "5 4                        80            1                 6               \n",
       "6 3                        80            0                 8               \n",
       "  TrainingTimesLastYear WorkLifeBalance YearsAtCompany YearsInCurrentRole\n",
       "1 0                     1                6             4                 \n",
       "2 3                     3               10             7                 \n",
       "3 3                     3                0             0                 \n",
       "4 3                     3                8             7                 \n",
       "5 3                     3                2             2                 \n",
       "6 2                     2                7             7                 \n",
       "  YearsSinceLastPromotion YearsWithCurrManager\n",
       "1 0                       5                   \n",
       "2 1                       7                   \n",
       "3 0                       0                   \n",
       "4 3                       0                   \n",
       "5 2                       2                   \n",
       "6 3                       6                   "
      ]
     },
     "metadata": {},
     "output_type": "display_data"
    }
   ],
   "source": [
    "# load the dataset\n",
    "hr = read.csv(\"data/HR-Employee-Attrition.csv\")\n",
    "\n",
    "# show the first 6 rows of the dataset\n",
    "head(hr)"
   ]
  },
  {
   "cell_type": "code",
   "execution_count": 7,
   "metadata": {},
   "outputs": [
    {
     "data": {
      "text/html": [
       "<ol class=list-inline>\n",
       "\t<li>'Age'</li>\n",
       "\t<li>'Attrition'</li>\n",
       "\t<li>'BusinessTravel'</li>\n",
       "\t<li>'DailyRate'</li>\n",
       "\t<li>'Department'</li>\n",
       "\t<li>'DistanceFromHome'</li>\n",
       "\t<li>'Education'</li>\n",
       "\t<li>'EducationField'</li>\n",
       "\t<li>'EmployeeCount'</li>\n",
       "\t<li>'EmployeeNumber'</li>\n",
       "\t<li>'EnvironmentSatisfaction'</li>\n",
       "\t<li>'Gender'</li>\n",
       "\t<li>'HourlyRate'</li>\n",
       "\t<li>'JobInvolvement'</li>\n",
       "\t<li>'JobLevel'</li>\n",
       "\t<li>'JobRole'</li>\n",
       "\t<li>'JobSatisfaction'</li>\n",
       "\t<li>'MaritalStatus'</li>\n",
       "\t<li>'MonthlyIncome'</li>\n",
       "\t<li>'MonthlyRate'</li>\n",
       "\t<li>'NumCompaniesWorked'</li>\n",
       "\t<li>'Over18'</li>\n",
       "\t<li>'OverTime'</li>\n",
       "\t<li>'PercentSalaryHike'</li>\n",
       "\t<li>'PerformanceRating'</li>\n",
       "\t<li>'RelationshipSatisfaction'</li>\n",
       "\t<li>'StandardHours'</li>\n",
       "\t<li>'StockOptionLevel'</li>\n",
       "\t<li>'TotalWorkingYears'</li>\n",
       "\t<li>'TrainingTimesLastYear'</li>\n",
       "\t<li>'WorkLifeBalance'</li>\n",
       "\t<li>'YearsAtCompany'</li>\n",
       "\t<li>'YearsInCurrentRole'</li>\n",
       "\t<li>'YearsSinceLastPromotion'</li>\n",
       "\t<li>'YearsWithCurrManager'</li>\n",
       "</ol>\n"
      ],
      "text/latex": [
       "\\begin{enumerate*}\n",
       "\\item 'Age'\n",
       "\\item 'Attrition'\n",
       "\\item 'BusinessTravel'\n",
       "\\item 'DailyRate'\n",
       "\\item 'Department'\n",
       "\\item 'DistanceFromHome'\n",
       "\\item 'Education'\n",
       "\\item 'EducationField'\n",
       "\\item 'EmployeeCount'\n",
       "\\item 'EmployeeNumber'\n",
       "\\item 'EnvironmentSatisfaction'\n",
       "\\item 'Gender'\n",
       "\\item 'HourlyRate'\n",
       "\\item 'JobInvolvement'\n",
       "\\item 'JobLevel'\n",
       "\\item 'JobRole'\n",
       "\\item 'JobSatisfaction'\n",
       "\\item 'MaritalStatus'\n",
       "\\item 'MonthlyIncome'\n",
       "\\item 'MonthlyRate'\n",
       "\\item 'NumCompaniesWorked'\n",
       "\\item 'Over18'\n",
       "\\item 'OverTime'\n",
       "\\item 'PercentSalaryHike'\n",
       "\\item 'PerformanceRating'\n",
       "\\item 'RelationshipSatisfaction'\n",
       "\\item 'StandardHours'\n",
       "\\item 'StockOptionLevel'\n",
       "\\item 'TotalWorkingYears'\n",
       "\\item 'TrainingTimesLastYear'\n",
       "\\item 'WorkLifeBalance'\n",
       "\\item 'YearsAtCompany'\n",
       "\\item 'YearsInCurrentRole'\n",
       "\\item 'YearsSinceLastPromotion'\n",
       "\\item 'YearsWithCurrManager'\n",
       "\\end{enumerate*}\n"
      ],
      "text/markdown": [
       "1. 'Age'\n",
       "2. 'Attrition'\n",
       "3. 'BusinessTravel'\n",
       "4. 'DailyRate'\n",
       "5. 'Department'\n",
       "6. 'DistanceFromHome'\n",
       "7. 'Education'\n",
       "8. 'EducationField'\n",
       "9. 'EmployeeCount'\n",
       "10. 'EmployeeNumber'\n",
       "11. 'EnvironmentSatisfaction'\n",
       "12. 'Gender'\n",
       "13. 'HourlyRate'\n",
       "14. 'JobInvolvement'\n",
       "15. 'JobLevel'\n",
       "16. 'JobRole'\n",
       "17. 'JobSatisfaction'\n",
       "18. 'MaritalStatus'\n",
       "19. 'MonthlyIncome'\n",
       "20. 'MonthlyRate'\n",
       "21. 'NumCompaniesWorked'\n",
       "22. 'Over18'\n",
       "23. 'OverTime'\n",
       "24. 'PercentSalaryHike'\n",
       "25. 'PerformanceRating'\n",
       "26. 'RelationshipSatisfaction'\n",
       "27. 'StandardHours'\n",
       "28. 'StockOptionLevel'\n",
       "29. 'TotalWorkingYears'\n",
       "30. 'TrainingTimesLastYear'\n",
       "31. 'WorkLifeBalance'\n",
       "32. 'YearsAtCompany'\n",
       "33. 'YearsInCurrentRole'\n",
       "34. 'YearsSinceLastPromotion'\n",
       "35. 'YearsWithCurrManager'\n",
       "\n",
       "\n"
      ],
      "text/plain": [
       " [1] \"Age\"                      \"Attrition\"               \n",
       " [3] \"BusinessTravel\"           \"DailyRate\"               \n",
       " [5] \"Department\"               \"DistanceFromHome\"        \n",
       " [7] \"Education\"                \"EducationField\"          \n",
       " [9] \"EmployeeCount\"            \"EmployeeNumber\"          \n",
       "[11] \"EnvironmentSatisfaction\"  \"Gender\"                  \n",
       "[13] \"HourlyRate\"               \"JobInvolvement\"          \n",
       "[15] \"JobLevel\"                 \"JobRole\"                 \n",
       "[17] \"JobSatisfaction\"          \"MaritalStatus\"           \n",
       "[19] \"MonthlyIncome\"            \"MonthlyRate\"             \n",
       "[21] \"NumCompaniesWorked\"       \"Over18\"                  \n",
       "[23] \"OverTime\"                 \"PercentSalaryHike\"       \n",
       "[25] \"PerformanceRating\"        \"RelationshipSatisfaction\"\n",
       "[27] \"StandardHours\"            \"StockOptionLevel\"        \n",
       "[29] \"TotalWorkingYears\"        \"TrainingTimesLastYear\"   \n",
       "[31] \"WorkLifeBalance\"          \"YearsAtCompany\"          \n",
       "[33] \"YearsInCurrentRole\"       \"YearsSinceLastPromotion\" \n",
       "[35] \"YearsWithCurrManager\"    "
      ]
     },
     "metadata": {},
     "output_type": "display_data"
    }
   ],
   "source": [
    "names(hr)"
   ]
  },
  {
   "cell_type": "markdown",
   "metadata": {},
   "source": [
    "This data set contains a wealth of information that could be used to predict attrition. Here's the **data dictionary**: the information about each feature (column) contained in the data set.\n",
    "\n",
    "\n",
    "* `Age`: employee's age\n",
    "* `Attrition`: the **response variable**. 1 if employee left IBM due to normal life circumstances, 0 if the employee stayed with IBM\n",
    "* `BusinessTravel`: the amount of travel the employee does for business. 0 (no travel), 1 (rare travel), or 2 (frequent travel)\n",
    "* `Department`: employee's home department. 'Sales', 'Research & Development', or 'Human Resources'\n",
    "* `DistanceFromHome`: number of miles the employee has to travel to work\n",
    "* `Education`: employee's highest level of education. 1 (below college), 2 (some college), 3 (bachelor's degree), 4 (master's degree), 5 (doctorate)\n",
    "* `Gender`: 1 (female) or 0 (male)\n",
    "* `JobRole`: 'Sales Executive', 'Research Scientist', 'Laboratory Technician', 'Manufacturing Director', 'Healthcare Representative', 'Manager', 'Sales Representative', 'Research Director', or 'Human Resources'\n",
    "* `JobSatisfaction`: the employee's ranking of their satisfaction with their job. Minimum is 1, maximum is 4.\n",
    "* `MaritalStatus`: 'Single', 'Married', or 'Divorced'\n",
    "* `MonthlyIncome`: in dollars\n",
    "* `NumCompaniesWorked`: the total number of companies the employee has worked at in their lifetime\n",
    "* `OverTime`: whether or not the employee is eligible for overtime. 1 (yes) or 0 (no)\n",
    "* `PercentSalaryHike`: for the employee's most recent salary increase, the percentage by which their salary increased\n",
    "* `WorkLifeBalance`: employee's rating of their work-life balance. 1 (bad), 2 (good), 3 (better), 4 (best)\n",
    "* `YearsAtCompany`: number of years employee has worked for IBM\n",
    "* `YearsInCurrentRole`: number of years employee has worked for IBM in their current position"
   ]
  },
  {
   "cell_type": "code",
   "execution_count": 3,
   "metadata": {},
   "outputs": [
    {
     "data": {
      "text/plain": [
       "      Age        Attrition            BusinessTravel   DailyRate     \n",
       " Min.   :18.00   No :1233   Non-Travel       : 150   Min.   : 102.0  \n",
       " 1st Qu.:30.00   Yes: 237   Travel_Frequently: 277   1st Qu.: 465.0  \n",
       " Median :36.00              Travel_Rarely    :1043   Median : 802.0  \n",
       " Mean   :36.92                                       Mean   : 802.5  \n",
       " 3rd Qu.:43.00                                       3rd Qu.:1157.0  \n",
       " Max.   :60.00                                       Max.   :1499.0  \n",
       "                                                                     \n",
       "                  Department  DistanceFromHome   Education    \n",
       " Human Resources       : 63   Min.   : 1.000   Min.   :1.000  \n",
       " Research & Development:961   1st Qu.: 2.000   1st Qu.:2.000  \n",
       " Sales                 :446   Median : 7.000   Median :3.000  \n",
       "                              Mean   : 9.193   Mean   :2.913  \n",
       "                              3rd Qu.:14.000   3rd Qu.:4.000  \n",
       "                              Max.   :29.000   Max.   :5.000  \n",
       "                                                              \n",
       "          EducationField EmployeeCount EmployeeNumber   EnvironmentSatisfaction\n",
       " Human Resources : 27    Min.   :1     Min.   :   1.0   Min.   :1.000          \n",
       " Life Sciences   :606    1st Qu.:1     1st Qu.: 491.2   1st Qu.:2.000          \n",
       " Marketing       :159    Median :1     Median :1020.5   Median :3.000          \n",
       " Medical         :464    Mean   :1     Mean   :1024.9   Mean   :2.722          \n",
       " Other           : 82    3rd Qu.:1     3rd Qu.:1555.8   3rd Qu.:4.000          \n",
       " Technical Degree:132    Max.   :1     Max.   :2068.0   Max.   :4.000          \n",
       "                                                                               \n",
       "    Gender      HourlyRate     JobInvolvement    JobLevel    \n",
       " Female:588   Min.   : 30.00   Min.   :1.00   Min.   :1.000  \n",
       " Male  :882   1st Qu.: 48.00   1st Qu.:2.00   1st Qu.:1.000  \n",
       "              Median : 66.00   Median :3.00   Median :2.000  \n",
       "              Mean   : 65.89   Mean   :2.73   Mean   :2.064  \n",
       "              3rd Qu.: 83.75   3rd Qu.:3.00   3rd Qu.:3.000  \n",
       "              Max.   :100.00   Max.   :4.00   Max.   :5.000  \n",
       "                                                             \n",
       "                      JobRole    JobSatisfaction  MaritalStatus MonthlyIncome  \n",
       " Sales Executive          :326   Min.   :1.000   Divorced:327   Min.   : 1009  \n",
       " Research Scientist       :292   1st Qu.:2.000   Married :673   1st Qu.: 2911  \n",
       " Laboratory Technician    :259   Median :3.000   Single  :470   Median : 4919  \n",
       " Manufacturing Director   :145   Mean   :2.729                  Mean   : 6503  \n",
       " Healthcare Representative:131   3rd Qu.:4.000                  3rd Qu.: 8379  \n",
       " Manager                  :102   Max.   :4.000                  Max.   :19999  \n",
       " (Other)                  :215                                                 \n",
       "  MonthlyRate    NumCompaniesWorked Over18   OverTime   PercentSalaryHike\n",
       " Min.   : 2094   Min.   :0.000      Y:1470   No :1054   Min.   :11.00    \n",
       " 1st Qu.: 8047   1st Qu.:1.000               Yes: 416   1st Qu.:12.00    \n",
       " Median :14236   Median :2.000                          Median :14.00    \n",
       " Mean   :14313   Mean   :2.693                          Mean   :15.21    \n",
       " 3rd Qu.:20462   3rd Qu.:4.000                          3rd Qu.:18.00    \n",
       " Max.   :26999   Max.   :9.000                          Max.   :25.00    \n",
       "                                                                         \n",
       " PerformanceRating RelationshipSatisfaction StandardHours StockOptionLevel\n",
       " Min.   :3.000     Min.   :1.000            Min.   :80    Min.   :0.0000  \n",
       " 1st Qu.:3.000     1st Qu.:2.000            1st Qu.:80    1st Qu.:0.0000  \n",
       " Median :3.000     Median :3.000            Median :80    Median :1.0000  \n",
       " Mean   :3.154     Mean   :2.712            Mean   :80    Mean   :0.7939  \n",
       " 3rd Qu.:3.000     3rd Qu.:4.000            3rd Qu.:80    3rd Qu.:1.0000  \n",
       " Max.   :4.000     Max.   :4.000            Max.   :80    Max.   :3.0000  \n",
       "                                                                          \n",
       " TotalWorkingYears TrainingTimesLastYear WorkLifeBalance YearsAtCompany  \n",
       " Min.   : 0.00     Min.   :0.000         Min.   :1.000   Min.   : 0.000  \n",
       " 1st Qu.: 6.00     1st Qu.:2.000         1st Qu.:2.000   1st Qu.: 3.000  \n",
       " Median :10.00     Median :3.000         Median :3.000   Median : 5.000  \n",
       " Mean   :11.28     Mean   :2.799         Mean   :2.761   Mean   : 7.008  \n",
       " 3rd Qu.:15.00     3rd Qu.:3.000         3rd Qu.:3.000   3rd Qu.: 9.000  \n",
       " Max.   :40.00     Max.   :6.000         Max.   :4.000   Max.   :40.000  \n",
       "                                                                         \n",
       " YearsInCurrentRole YearsSinceLastPromotion YearsWithCurrManager\n",
       " Min.   : 0.000     Min.   : 0.000          Min.   : 0.000      \n",
       " 1st Qu.: 2.000     1st Qu.: 0.000          1st Qu.: 2.000      \n",
       " Median : 3.000     Median : 1.000          Median : 3.000      \n",
       " Mean   : 4.229     Mean   : 2.188          Mean   : 4.123      \n",
       " 3rd Qu.: 7.000     3rd Qu.: 3.000          3rd Qu.: 7.000      \n",
       " Max.   :18.000     Max.   :15.000          Max.   :17.000      \n",
       "                                                                "
      ]
     },
     "metadata": {},
     "output_type": "display_data"
    }
   ],
   "source": [
    "summary(hr)"
   ]
  },
  {
   "cell_type": "code",
   "execution_count": 41,
   "metadata": {},
   "outputs": [
    {
     "ename": "ERROR",
     "evalue": "Error in `[.data.frame`(hr, , my_column): undefined columns selected\n",
     "output_type": "error",
     "traceback": [
      "Error in `[.data.frame`(hr, , my_column): undefined columns selected\nTraceback:\n",
      "1. hist(hr[, my_column])",
      "2. hr[, my_column]",
      "3. `[.data.frame`(hr, , my_column)",
      "4. stop(\"undefined columns selected\")"
     ]
    }
   ],
   "source": [
    "# replace the ... with the name of the column you want to visualize\n",
    "# capitalization counts!\n",
    "my_column = \"...\"\n",
    "\n",
    "# run this cell to see the distribution of values for your column\n",
    "hist(hr[, my_column])\n",
    "\n",
    "boxplot(hr[,my_column])"
   ]
  },
  {
   "cell_type": "markdown",
   "metadata": {},
   "source": [
    "## <a class=\"sectionlogistic\"> Logistic Regression </a>"
   ]
  },
  {
   "cell_type": "code",
   "execution_count": 45,
   "metadata": {},
   "outputs": [],
   "source": [
    "hr"
   ]
  },
  {
   "cell_type": "code",
   "execution_count": 39,
   "metadata": {},
   "outputs": [],
   "source": [
    "numeric_data = subset(x=hr, subset=)"
   ]
  },
  {
   "cell_type": "code",
   "execution_count": 44,
   "metadata": {},
   "outputs": [
    {
     "name": "stderr",
     "output_type": "stream",
     "text": [
      "Warning message:\n",
      "“dependency ‘foreign’ is not available”Warning message in install.packages(\"Amelia\"):\n",
      "“installation of package ‘Amelia’ had non-zero exit status”Updating HTML index of packages in '.Library'\n",
      "Making 'packages.html' ... done\n"
     ]
    },
    {
     "ename": "ERROR",
     "evalue": "Error in library(Amelia): there is no package called ‘Amelia’\n",
     "output_type": "error",
     "traceback": [
      "Error in library(Amelia): there is no package called ‘Amelia’\nTraceback:\n",
      "1. library(Amelia)"
     ]
    }
   ],
   "source": [
    "install.packages(\"Amelia\")\n",
    "library(Amelia)\n",
    "library(mlbench)\n",
    "missmap(hr, col=c(\"blue\", \"red\"), legend=FALSE)"
   ]
  },
  {
   "cell_type": "code",
   "execution_count": null,
   "metadata": {},
   "outputs": [],
   "source": [
    "\n",
    "library(corrplot)\n",
    "correlations <- cor(Smarket[,1:8])\n",
    "corrplot(correlations, method=\"circle\")"
   ]
  }
 ],
 "metadata": {
  "kernelspec": {
   "display_name": "R",
   "language": "R",
   "name": "ir"
  },
  "language_info": {
   "codemirror_mode": "r",
   "file_extension": ".r",
   "mimetype": "text/x-r-source",
   "name": "R",
   "pygments_lexer": "r",
   "version": "3.6.1"
  }
 },
 "nbformat": 4,
 "nbformat_minor": 2
}
