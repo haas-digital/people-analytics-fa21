{
 "cells": [
  {
   "cell_type": "markdown",
   "metadata": {},
   "source": [
    "# People Analytics\n",
    "## Predicting Employee Attrition with R\n",
    "\n",
    "<img src=\"images/office-and-workers-in-barcelona-spain.jpg\" />\n",
    "\n",
    "<br>\n",
    "\n",
    "*In this notebook, we will walk through solving a classification problem. Classification is a type of Machine Learning where we identify which set of categories a person or observation might belong to. We use a set of \"training\" data containing observations whose category is known and then build a model to make judgements about what classification we might put other people (or instances) into. Classification is an example of pattern recognition, we look for patterns in the data to help us predict what future patterns might be.* \n",
    "\n",
    "### Table of Contents\n",
    "<a href=\"#sectioncase\">Case Study: Employee Attrition at IBM</a>\n",
    "\n",
    "<a href=\"#sectiondata\"> The Dataset </a>\n",
    "\n",
    "<a href=\"#sectionlogistic\"> Logistic Regression </a>\n",
    "\n",
    "<ul>\n",
    "    <li> <a href=\"#sectionex1\">Example 1: Predicting Based on Monthly Income </a> </li>\n",
    "    <li> <a href=\"#sectionex2\">Example 2: Predicting Based on Monthly Income, Work-Life Balance, and Years at Company</a> </li>\n",
    "    <li> <a href=\"#sectionmake\">Make Your Own Model</a></li>\n",
    "    </ul>\n"
   ]
  },
  {
   "cell_type": "markdown",
   "metadata": {},
   "source": [
    "## <a id= \"sectioncase\">Case Study: Employee Attrition at IBM </a>\n",
    "\n",
    "*Employee attrition* refers to a decrease in employees at a company, caused by resignations, retirements, or the elimination of job positions. It is important for businesses to anticipate attrition so they can keep costs low and properly distribute workloads.\n",
    "\n",
    "Today, we'll try to predict whether or not an employee will leave their job using [a data set created by IBM](https://www.kaggle.com/pavansubhasht/ibm-hr-analytics-attrition-dataset/home). Because employee data is confidential, IBM's data set is fictional- it does not represent real employees. However, the data and the problem are structured very similarly to how actual companies such as IBM are approaching this very real problem. In analytics, the focus of the question, study, or experiment is oftern called the <b>response</b>, <b>explanatory</b>, or the <b>dependent</b> variable. In this example, attrition is our response or dependent variable. Any variables that we may use to predict attrition would be our <b>independent</b> variable(s).\n",
    "\n",
    "<div class=\"alert alert-info\">\n",
    "    <b>NOTE</b>: we've made some changes to the data set to make this assignment simpler- things like renaming values, dropping confusing features, and adding definitions for columns. Please refer to the data dictionary below and <b>not</b> the one at the link when completing this assignment.\n",
    "    </div>\n",
    "    \n",
    "Run the following cell to load the R-packages we will use to analyze the data. These packages provide a starting point that will allow us to process data without having to write code from scratch.       \n"
   ]
  },
  {
   "cell_type": "code",
   "execution_count": 2,
   "metadata": {},
   "outputs": [
    {
     "name": "stderr",
     "output_type": "stream",
     "text": [
      "Updating HTML index of packages in '.Library'\n",
      "Making 'packages.html' ... done\n",
      "Updating HTML index of packages in '.Library'\n",
      "Making 'packages.html' ... done\n",
      "corrplot 0.84 loaded\n",
      "Updating HTML index of packages in '.Library'\n",
      "Making 'packages.html' ... done\n"
     ]
    }
   ],
   "source": [
    "# dependencies\n",
    "install.packages(\"corrplot\")\n",
    "install.packages(\"fmsb\")\n",
    "\n",
    "library(corrplot)\n",
    "library(ggplot2)\n",
    "install.packages(\"plyr\")\n",
    "library(plyr)\n",
    "library(fmsb)\n"
   ]
  },
  {
   "cell_type": "markdown",
   "metadata": {},
   "source": [
    "## <a name=\"sectiondata\"> The Dataset </a>\n"
   ]
  },
  {
   "cell_type": "markdown",
   "metadata": {},
   "source": [
    "Run the following cell to load the data."
   ]
  },
  {
   "cell_type": "code",
   "execution_count": 3,
   "metadata": {},
   "outputs": [
    {
     "data": {
      "text/html": [
       "<table>\n",
       "<caption>A data.frame: 6 × 35</caption>\n",
       "<thead>\n",
       "\t<tr><th scope=col>Age</th><th scope=col>Attrition</th><th scope=col>BusinessTravel</th><th scope=col>DailyRate</th><th scope=col>Department</th><th scope=col>DistanceFromHome</th><th scope=col>Education</th><th scope=col>EducationField</th><th scope=col>EmployeeCount</th><th scope=col>EmployeeNumber</th><th scope=col>⋯</th><th scope=col>RelationshipSatisfaction</th><th scope=col>StandardHours</th><th scope=col>StockOptionLevel</th><th scope=col>TotalWorkingYears</th><th scope=col>TrainingTimesLastYear</th><th scope=col>WorkLifeBalance</th><th scope=col>YearsAtCompany</th><th scope=col>YearsInCurrentRole</th><th scope=col>YearsSinceLastPromotion</th><th scope=col>YearsWithCurrManager</th></tr>\n",
       "\t<tr><th scope=col>&lt;int&gt;</th><th scope=col>&lt;fct&gt;</th><th scope=col>&lt;fct&gt;</th><th scope=col>&lt;int&gt;</th><th scope=col>&lt;fct&gt;</th><th scope=col>&lt;int&gt;</th><th scope=col>&lt;int&gt;</th><th scope=col>&lt;fct&gt;</th><th scope=col>&lt;int&gt;</th><th scope=col>&lt;int&gt;</th><th scope=col>⋯</th><th scope=col>&lt;int&gt;</th><th scope=col>&lt;int&gt;</th><th scope=col>&lt;int&gt;</th><th scope=col>&lt;int&gt;</th><th scope=col>&lt;int&gt;</th><th scope=col>&lt;int&gt;</th><th scope=col>&lt;int&gt;</th><th scope=col>&lt;int&gt;</th><th scope=col>&lt;int&gt;</th><th scope=col>&lt;int&gt;</th></tr>\n",
       "</thead>\n",
       "<tbody>\n",
       "\t<tr><td>41</td><td>Yes</td><td>Travel_Rarely    </td><td>1102</td><td>Sales                 </td><td>1</td><td>2</td><td>Life Sciences</td><td>1</td><td>1</td><td>⋯</td><td>1</td><td>80</td><td>0</td><td> 8</td><td>0</td><td>1</td><td> 6</td><td>4</td><td>0</td><td>5</td></tr>\n",
       "\t<tr><td>49</td><td>No </td><td>Travel_Frequently</td><td> 279</td><td>Research &amp; Development</td><td>8</td><td>1</td><td>Life Sciences</td><td>1</td><td>2</td><td>⋯</td><td>4</td><td>80</td><td>1</td><td>10</td><td>3</td><td>3</td><td>10</td><td>7</td><td>1</td><td>7</td></tr>\n",
       "\t<tr><td>37</td><td>Yes</td><td><span style=white-space:pre-wrap>Travel_Rarely    </span></td><td>1373</td><td>Research &amp; Development</td><td>2</td><td>2</td><td><span style=white-space:pre-wrap>Other        </span></td><td>1</td><td>4</td><td>⋯</td><td>2</td><td>80</td><td>0</td><td> 7</td><td>3</td><td>3</td><td> 0</td><td>0</td><td>0</td><td>0</td></tr>\n",
       "\t<tr><td>33</td><td>No </td><td>Travel_Frequently</td><td>1392</td><td>Research &amp; Development</td><td>3</td><td>4</td><td>Life Sciences</td><td>1</td><td>5</td><td>⋯</td><td>3</td><td>80</td><td>0</td><td> 8</td><td>3</td><td>3</td><td> 8</td><td>7</td><td>3</td><td>0</td></tr>\n",
       "\t<tr><td>27</td><td>No </td><td><span style=white-space:pre-wrap>Travel_Rarely    </span></td><td> 591</td><td>Research &amp; Development</td><td>2</td><td>1</td><td><span style=white-space:pre-wrap>Medical      </span></td><td>1</td><td>7</td><td>⋯</td><td>4</td><td>80</td><td>1</td><td> 6</td><td>3</td><td>3</td><td> 2</td><td>2</td><td>2</td><td>2</td></tr>\n",
       "\t<tr><td>32</td><td>No </td><td>Travel_Frequently</td><td>1005</td><td>Research &amp; Development</td><td>2</td><td>2</td><td>Life Sciences</td><td>1</td><td>8</td><td>⋯</td><td>3</td><td>80</td><td>0</td><td> 8</td><td>2</td><td>2</td><td> 7</td><td>7</td><td>3</td><td>6</td></tr>\n",
       "</tbody>\n",
       "</table>\n"
      ],
      "text/latex": [
       "A data.frame: 6 × 35\n",
       "\\begin{tabular}{r|lllllllllllllllllllllllllllllllllll}\n",
       " Age & Attrition & BusinessTravel & DailyRate & Department & DistanceFromHome & Education & EducationField & EmployeeCount & EmployeeNumber & EnvironmentSatisfaction & Gender & HourlyRate & JobInvolvement & JobLevel & JobRole & JobSatisfaction & MaritalStatus & MonthlyIncome & MonthlyRate & NumCompaniesWorked & Over18 & OverTime & PercentSalaryHike & PerformanceRating & RelationshipSatisfaction & StandardHours & StockOptionLevel & TotalWorkingYears & TrainingTimesLastYear & WorkLifeBalance & YearsAtCompany & YearsInCurrentRole & YearsSinceLastPromotion & YearsWithCurrManager\\\\\n",
       " <int> & <fct> & <fct> & <int> & <fct> & <int> & <int> & <fct> & <int> & <int> & <int> & <fct> & <int> & <int> & <int> & <fct> & <int> & <fct> & <int> & <int> & <int> & <fct> & <fct> & <int> & <int> & <int> & <int> & <int> & <int> & <int> & <int> & <int> & <int> & <int> & <int>\\\\\n",
       "\\hline\n",
       "\t 41 & Yes & Travel\\_Rarely     & 1102 & Sales                  & 1 & 2 & Life Sciences & 1 & 1 & 2 & Female & 94 & 3 & 2 & Sales Executive       & 4 & Single  & 5993 & 19479 & 8 & Y & Yes & 11 & 3 & 1 & 80 & 0 &  8 & 0 & 1 &  6 & 4 & 0 & 5\\\\\n",
       "\t 49 & No  & Travel\\_Frequently &  279 & Research \\& Development & 8 & 1 & Life Sciences & 1 & 2 & 3 & Male   & 61 & 2 & 2 & Research Scientist    & 2 & Married & 5130 & 24907 & 1 & Y & No  & 23 & 4 & 4 & 80 & 1 & 10 & 3 & 3 & 10 & 7 & 1 & 7\\\\\n",
       "\t 37 & Yes & Travel\\_Rarely     & 1373 & Research \\& Development & 2 & 2 & Other         & 1 & 4 & 4 & Male   & 92 & 2 & 1 & Laboratory Technician & 3 & Single  & 2090 &  2396 & 6 & Y & Yes & 15 & 3 & 2 & 80 & 0 &  7 & 3 & 3 &  0 & 0 & 0 & 0\\\\\n",
       "\t 33 & No  & Travel\\_Frequently & 1392 & Research \\& Development & 3 & 4 & Life Sciences & 1 & 5 & 4 & Female & 56 & 3 & 1 & Research Scientist    & 3 & Married & 2909 & 23159 & 1 & Y & Yes & 11 & 3 & 3 & 80 & 0 &  8 & 3 & 3 &  8 & 7 & 3 & 0\\\\\n",
       "\t 27 & No  & Travel\\_Rarely     &  591 & Research \\& Development & 2 & 1 & Medical       & 1 & 7 & 1 & Male   & 40 & 3 & 1 & Laboratory Technician & 2 & Married & 3468 & 16632 & 9 & Y & No  & 12 & 3 & 4 & 80 & 1 &  6 & 3 & 3 &  2 & 2 & 2 & 2\\\\\n",
       "\t 32 & No  & Travel\\_Frequently & 1005 & Research \\& Development & 2 & 2 & Life Sciences & 1 & 8 & 4 & Male   & 79 & 3 & 1 & Laboratory Technician & 4 & Single  & 3068 & 11864 & 0 & Y & No  & 13 & 3 & 3 & 80 & 0 &  8 & 2 & 2 &  7 & 7 & 3 & 6\\\\\n",
       "\\end{tabular}\n"
      ],
      "text/markdown": [
       "\n",
       "A data.frame: 6 × 35\n",
       "\n",
       "| Age &lt;int&gt; | Attrition &lt;fct&gt; | BusinessTravel &lt;fct&gt; | DailyRate &lt;int&gt; | Department &lt;fct&gt; | DistanceFromHome &lt;int&gt; | Education &lt;int&gt; | EducationField &lt;fct&gt; | EmployeeCount &lt;int&gt; | EmployeeNumber &lt;int&gt; | ⋯ ⋯ | RelationshipSatisfaction &lt;int&gt; | StandardHours &lt;int&gt; | StockOptionLevel &lt;int&gt; | TotalWorkingYears &lt;int&gt; | TrainingTimesLastYear &lt;int&gt; | WorkLifeBalance &lt;int&gt; | YearsAtCompany &lt;int&gt; | YearsInCurrentRole &lt;int&gt; | YearsSinceLastPromotion &lt;int&gt; | YearsWithCurrManager &lt;int&gt; |\n",
       "|---|---|---|---|---|---|---|---|---|---|---|---|---|---|---|---|---|---|---|---|---|\n",
       "| 41 | Yes | Travel_Rarely     | 1102 | Sales                  | 1 | 2 | Life Sciences | 1 | 1 | ⋯ | 1 | 80 | 0 |  8 | 0 | 1 |  6 | 4 | 0 | 5 |\n",
       "| 49 | No  | Travel_Frequently |  279 | Research &amp; Development | 8 | 1 | Life Sciences | 1 | 2 | ⋯ | 4 | 80 | 1 | 10 | 3 | 3 | 10 | 7 | 1 | 7 |\n",
       "| 37 | Yes | Travel_Rarely     | 1373 | Research &amp; Development | 2 | 2 | Other         | 1 | 4 | ⋯ | 2 | 80 | 0 |  7 | 3 | 3 |  0 | 0 | 0 | 0 |\n",
       "| 33 | No  | Travel_Frequently | 1392 | Research &amp; Development | 3 | 4 | Life Sciences | 1 | 5 | ⋯ | 3 | 80 | 0 |  8 | 3 | 3 |  8 | 7 | 3 | 0 |\n",
       "| 27 | No  | Travel_Rarely     |  591 | Research &amp; Development | 2 | 1 | Medical       | 1 | 7 | ⋯ | 4 | 80 | 1 |  6 | 3 | 3 |  2 | 2 | 2 | 2 |\n",
       "| 32 | No  | Travel_Frequently | 1005 | Research &amp; Development | 2 | 2 | Life Sciences | 1 | 8 | ⋯ | 3 | 80 | 0 |  8 | 2 | 2 |  7 | 7 | 3 | 6 |\n",
       "\n"
      ],
      "text/plain": [
       "  Age Attrition BusinessTravel    DailyRate Department            \n",
       "1 41  Yes       Travel_Rarely     1102      Sales                 \n",
       "2 49  No        Travel_Frequently  279      Research & Development\n",
       "3 37  Yes       Travel_Rarely     1373      Research & Development\n",
       "4 33  No        Travel_Frequently 1392      Research & Development\n",
       "5 27  No        Travel_Rarely      591      Research & Development\n",
       "6 32  No        Travel_Frequently 1005      Research & Development\n",
       "  DistanceFromHome Education EducationField EmployeeCount EmployeeNumber ⋯\n",
       "1 1                2         Life Sciences  1             1              ⋯\n",
       "2 8                1         Life Sciences  1             2              ⋯\n",
       "3 2                2         Other          1             4              ⋯\n",
       "4 3                4         Life Sciences  1             5              ⋯\n",
       "5 2                1         Medical        1             7              ⋯\n",
       "6 2                2         Life Sciences  1             8              ⋯\n",
       "  RelationshipSatisfaction StandardHours StockOptionLevel TotalWorkingYears\n",
       "1 1                        80            0                 8               \n",
       "2 4                        80            1                10               \n",
       "3 2                        80            0                 7               \n",
       "4 3                        80            0                 8               \n",
       "5 4                        80            1                 6               \n",
       "6 3                        80            0                 8               \n",
       "  TrainingTimesLastYear WorkLifeBalance YearsAtCompany YearsInCurrentRole\n",
       "1 0                     1                6             4                 \n",
       "2 3                     3               10             7                 \n",
       "3 3                     3                0             0                 \n",
       "4 3                     3                8             7                 \n",
       "5 3                     3                2             2                 \n",
       "6 2                     2                7             7                 \n",
       "  YearsSinceLastPromotion YearsWithCurrManager\n",
       "1 0                       5                   \n",
       "2 1                       7                   \n",
       "3 0                       0                   \n",
       "4 3                       0                   \n",
       "5 2                       2                   \n",
       "6 3                       6                   "
      ]
     },
     "metadata": {},
     "output_type": "display_data"
    }
   ],
   "source": [
    "# load the dataset\n",
    "hr = read.csv(\"data/HR-Employee-Attrition.csv\")\n",
    "\n",
    "# show the first 6 rows of the dataset\n",
    "head(hr)"
   ]
  },
  {
   "cell_type": "markdown",
   "metadata": {},
   "source": [
    "This data set contains a wealth of information that could be used to predict attrition. In fact, there is so much information that the rows and columns have been truncated in the notebook.\n",
    "\n",
    "We can see the dimensions of the dataset (number of rows and columns, respectively) with the `dim` function."
   ]
  },
  {
   "cell_type": "code",
   "execution_count": 4,
   "metadata": {},
   "outputs": [
    {
     "data": {
      "text/html": [
       "<ol class=list-inline>\n",
       "\t<li>1470</li>\n",
       "\t<li>35</li>\n",
       "</ol>\n"
      ],
      "text/latex": [
       "\\begin{enumerate*}\n",
       "\\item 1470\n",
       "\\item 35\n",
       "\\end{enumerate*}\n"
      ],
      "text/markdown": [
       "1. 1470\n",
       "2. 35\n",
       "\n",
       "\n"
      ],
      "text/plain": [
       "[1] 1470   35"
      ]
     },
     "metadata": {},
     "output_type": "display_data"
    }
   ],
   "source": [
    "# show the size of the dataset\n",
    "dim(hr)"
   ]
  },
  {
   "cell_type": "markdown",
   "metadata": {},
   "source": [
    "The first number is the number of rows and it shows how many employees are available on the dataset. The second number is the number of columns, which indicates how many variables we have data on for these employees. We can view all of the column names by using the `names` function."
   ]
  },
  {
   "cell_type": "code",
   "execution_count": 5,
   "metadata": {},
   "outputs": [
    {
     "data": {
      "text/html": [
       "<ol class=list-inline>\n",
       "\t<li>'Age'</li>\n",
       "\t<li>'Attrition'</li>\n",
       "\t<li>'BusinessTravel'</li>\n",
       "\t<li>'DailyRate'</li>\n",
       "\t<li>'Department'</li>\n",
       "\t<li>'DistanceFromHome'</li>\n",
       "\t<li>'Education'</li>\n",
       "\t<li>'EducationField'</li>\n",
       "\t<li>'EmployeeCount'</li>\n",
       "\t<li>'EmployeeNumber'</li>\n",
       "\t<li>'EnvironmentSatisfaction'</li>\n",
       "\t<li>'Gender'</li>\n",
       "\t<li>'HourlyRate'</li>\n",
       "\t<li>'JobInvolvement'</li>\n",
       "\t<li>'JobLevel'</li>\n",
       "\t<li>'JobRole'</li>\n",
       "\t<li>'JobSatisfaction'</li>\n",
       "\t<li>'MaritalStatus'</li>\n",
       "\t<li>'MonthlyIncome'</li>\n",
       "\t<li>'MonthlyRate'</li>\n",
       "\t<li>'NumCompaniesWorked'</li>\n",
       "\t<li>'Over18'</li>\n",
       "\t<li>'OverTime'</li>\n",
       "\t<li>'PercentSalaryHike'</li>\n",
       "\t<li>'PerformanceRating'</li>\n",
       "\t<li>'RelationshipSatisfaction'</li>\n",
       "\t<li>'StandardHours'</li>\n",
       "\t<li>'StockOptionLevel'</li>\n",
       "\t<li>'TotalWorkingYears'</li>\n",
       "\t<li>'TrainingTimesLastYear'</li>\n",
       "\t<li>'WorkLifeBalance'</li>\n",
       "\t<li>'YearsAtCompany'</li>\n",
       "\t<li>'YearsInCurrentRole'</li>\n",
       "\t<li>'YearsSinceLastPromotion'</li>\n",
       "\t<li>'YearsWithCurrManager'</li>\n",
       "</ol>\n"
      ],
      "text/latex": [
       "\\begin{enumerate*}\n",
       "\\item 'Age'\n",
       "\\item 'Attrition'\n",
       "\\item 'BusinessTravel'\n",
       "\\item 'DailyRate'\n",
       "\\item 'Department'\n",
       "\\item 'DistanceFromHome'\n",
       "\\item 'Education'\n",
       "\\item 'EducationField'\n",
       "\\item 'EmployeeCount'\n",
       "\\item 'EmployeeNumber'\n",
       "\\item 'EnvironmentSatisfaction'\n",
       "\\item 'Gender'\n",
       "\\item 'HourlyRate'\n",
       "\\item 'JobInvolvement'\n",
       "\\item 'JobLevel'\n",
       "\\item 'JobRole'\n",
       "\\item 'JobSatisfaction'\n",
       "\\item 'MaritalStatus'\n",
       "\\item 'MonthlyIncome'\n",
       "\\item 'MonthlyRate'\n",
       "\\item 'NumCompaniesWorked'\n",
       "\\item 'Over18'\n",
       "\\item 'OverTime'\n",
       "\\item 'PercentSalaryHike'\n",
       "\\item 'PerformanceRating'\n",
       "\\item 'RelationshipSatisfaction'\n",
       "\\item 'StandardHours'\n",
       "\\item 'StockOptionLevel'\n",
       "\\item 'TotalWorkingYears'\n",
       "\\item 'TrainingTimesLastYear'\n",
       "\\item 'WorkLifeBalance'\n",
       "\\item 'YearsAtCompany'\n",
       "\\item 'YearsInCurrentRole'\n",
       "\\item 'YearsSinceLastPromotion'\n",
       "\\item 'YearsWithCurrManager'\n",
       "\\end{enumerate*}\n"
      ],
      "text/markdown": [
       "1. 'Age'\n",
       "2. 'Attrition'\n",
       "3. 'BusinessTravel'\n",
       "4. 'DailyRate'\n",
       "5. 'Department'\n",
       "6. 'DistanceFromHome'\n",
       "7. 'Education'\n",
       "8. 'EducationField'\n",
       "9. 'EmployeeCount'\n",
       "10. 'EmployeeNumber'\n",
       "11. 'EnvironmentSatisfaction'\n",
       "12. 'Gender'\n",
       "13. 'HourlyRate'\n",
       "14. 'JobInvolvement'\n",
       "15. 'JobLevel'\n",
       "16. 'JobRole'\n",
       "17. 'JobSatisfaction'\n",
       "18. 'MaritalStatus'\n",
       "19. 'MonthlyIncome'\n",
       "20. 'MonthlyRate'\n",
       "21. 'NumCompaniesWorked'\n",
       "22. 'Over18'\n",
       "23. 'OverTime'\n",
       "24. 'PercentSalaryHike'\n",
       "25. 'PerformanceRating'\n",
       "26. 'RelationshipSatisfaction'\n",
       "27. 'StandardHours'\n",
       "28. 'StockOptionLevel'\n",
       "29. 'TotalWorkingYears'\n",
       "30. 'TrainingTimesLastYear'\n",
       "31. 'WorkLifeBalance'\n",
       "32. 'YearsAtCompany'\n",
       "33. 'YearsInCurrentRole'\n",
       "34. 'YearsSinceLastPromotion'\n",
       "35. 'YearsWithCurrManager'\n",
       "\n",
       "\n"
      ],
      "text/plain": [
       " [1] \"Age\"                      \"Attrition\"               \n",
       " [3] \"BusinessTravel\"           \"DailyRate\"               \n",
       " [5] \"Department\"               \"DistanceFromHome\"        \n",
       " [7] \"Education\"                \"EducationField\"          \n",
       " [9] \"EmployeeCount\"            \"EmployeeNumber\"          \n",
       "[11] \"EnvironmentSatisfaction\"  \"Gender\"                  \n",
       "[13] \"HourlyRate\"               \"JobInvolvement\"          \n",
       "[15] \"JobLevel\"                 \"JobRole\"                 \n",
       "[17] \"JobSatisfaction\"          \"MaritalStatus\"           \n",
       "[19] \"MonthlyIncome\"            \"MonthlyRate\"             \n",
       "[21] \"NumCompaniesWorked\"       \"Over18\"                  \n",
       "[23] \"OverTime\"                 \"PercentSalaryHike\"       \n",
       "[25] \"PerformanceRating\"        \"RelationshipSatisfaction\"\n",
       "[27] \"StandardHours\"            \"StockOptionLevel\"        \n",
       "[29] \"TotalWorkingYears\"        \"TrainingTimesLastYear\"   \n",
       "[31] \"WorkLifeBalance\"          \"YearsAtCompany\"          \n",
       "[33] \"YearsInCurrentRole\"       \"YearsSinceLastPromotion\" \n",
       "[35] \"YearsWithCurrManager\"    "
      ]
     },
     "metadata": {},
     "output_type": "display_data"
    }
   ],
   "source": [
    "# view all column names\n",
    "names(hr)"
   ]
  },
  {
   "cell_type": "markdown",
   "metadata": {},
   "source": [
    "The source website included the **data dictionary**: the information about each feature (column) contained in the data set. We've reproduced the data dictionary here.\n",
    "\n",
    "\n",
    "* `Age`: employee's age\n",
    "* `Attrition`: the **response variable**. 'Yes' if employee left IBM due to normal life circumstances, 'No' if the employee stayed with IBM\n",
    "* `BusinessTravel`: the amount of travel the employee does for business. 0 (no travel), 1 (rare travel), or 2 (frequent travel)\n",
    "* `Department`: employee's home department. 'Sales', 'Research & Development', or 'Human Resources'\n",
    "* `DistanceFromHome`: number of miles the employee has to travel to work\n",
    "* `Education`: employee's highest level of education. 1 (below college), 2 (some college), 3 (bachelor's degree), 4 (master's degree), 5 (doctorate)\n",
    "* `Gender`: 1 (female) or 0 (male)\n",
    "* `JobRole`: 'Sales Executive', 'Research Scientist', 'Laboratory Technician', 'Manufacturing Director', 'Healthcare Representative', 'Manager', 'Sales Representative', 'Research Director', or 'Human Resources'\n",
    "* `JobSatisfaction`: the employee's ranking of their satisfaction with their job. Minimum is 1, maximum is 4.\n",
    "* `MaritalStatus`: 'Single', 'Married', or 'Divorced'\n",
    "* `MonthlyIncome`: in dollars\n",
    "* `NumCompaniesWorked`: the total number of companies the employee has worked at in their lifetime\n",
    "* `OverTime`: whether or not the employee is eligible for overtime. 1 (yes) or 0 (no)\n",
    "* `PercentSalaryHike`: for the employee's most recent salary increase, the percentage by which their salary increased\n",
    "* `WorkLifeBalance`: employee's rating of their work-life balance. 1 (bad), 2 (good), 3 (better), 4 (best)\n",
    "* `YearsAtCompany`: number of years employee has worked for IBM\n",
    "* `YearsInCurrentRole`: number of years employee has worked for IBM in their current position\n",
    "\n",
    "In the following cell we will add a new column (`AttritionInt`) to the dataset: the Attrition variable stored as an integer (1 if the employee left IBM, 0 if the employee stayed). This will be the actual response variable our models will use to predict attrition."
   ]
  },
  {
   "cell_type": "code",
   "execution_count": 6,
   "metadata": {},
   "outputs": [
    {
     "data": {
      "text/html": [
       "<table>\n",
       "<caption>A data.frame: 6 × 27</caption>\n",
       "<thead>\n",
       "\t<tr><th scope=col>Age</th><th scope=col>DailyRate</th><th scope=col>DistanceFromHome</th><th scope=col>Education</th><th scope=col>EmployeeCount</th><th scope=col>EmployeeNumber</th><th scope=col>EnvironmentSatisfaction</th><th scope=col>HourlyRate</th><th scope=col>JobInvolvement</th><th scope=col>JobLevel</th><th scope=col>⋯</th><th scope=col>StandardHours</th><th scope=col>StockOptionLevel</th><th scope=col>TotalWorkingYears</th><th scope=col>TrainingTimesLastYear</th><th scope=col>WorkLifeBalance</th><th scope=col>YearsAtCompany</th><th scope=col>YearsInCurrentRole</th><th scope=col>YearsSinceLastPromotion</th><th scope=col>YearsWithCurrManager</th><th scope=col>AttritionInt</th></tr>\n",
       "\t<tr><th scope=col>&lt;int&gt;</th><th scope=col>&lt;int&gt;</th><th scope=col>&lt;int&gt;</th><th scope=col>&lt;int&gt;</th><th scope=col>&lt;int&gt;</th><th scope=col>&lt;int&gt;</th><th scope=col>&lt;int&gt;</th><th scope=col>&lt;int&gt;</th><th scope=col>&lt;int&gt;</th><th scope=col>&lt;int&gt;</th><th scope=col>⋯</th><th scope=col>&lt;int&gt;</th><th scope=col>&lt;int&gt;</th><th scope=col>&lt;int&gt;</th><th scope=col>&lt;int&gt;</th><th scope=col>&lt;int&gt;</th><th scope=col>&lt;int&gt;</th><th scope=col>&lt;int&gt;</th><th scope=col>&lt;int&gt;</th><th scope=col>&lt;int&gt;</th><th scope=col>&lt;dbl&gt;</th></tr>\n",
       "</thead>\n",
       "<tbody>\n",
       "\t<tr><td>41</td><td>1102</td><td>1</td><td>2</td><td>1</td><td>1</td><td>2</td><td>94</td><td>3</td><td>2</td><td>⋯</td><td>80</td><td>0</td><td> 8</td><td>0</td><td>1</td><td> 6</td><td>4</td><td>0</td><td>5</td><td>1</td></tr>\n",
       "\t<tr><td>49</td><td> 279</td><td>8</td><td>1</td><td>1</td><td>2</td><td>3</td><td>61</td><td>2</td><td>2</td><td>⋯</td><td>80</td><td>1</td><td>10</td><td>3</td><td>3</td><td>10</td><td>7</td><td>1</td><td>7</td><td>0</td></tr>\n",
       "\t<tr><td>37</td><td>1373</td><td>2</td><td>2</td><td>1</td><td>4</td><td>4</td><td>92</td><td>2</td><td>1</td><td>⋯</td><td>80</td><td>0</td><td> 7</td><td>3</td><td>3</td><td> 0</td><td>0</td><td>0</td><td>0</td><td>1</td></tr>\n",
       "\t<tr><td>33</td><td>1392</td><td>3</td><td>4</td><td>1</td><td>5</td><td>4</td><td>56</td><td>3</td><td>1</td><td>⋯</td><td>80</td><td>0</td><td> 8</td><td>3</td><td>3</td><td> 8</td><td>7</td><td>3</td><td>0</td><td>0</td></tr>\n",
       "\t<tr><td>27</td><td> 591</td><td>2</td><td>1</td><td>1</td><td>7</td><td>1</td><td>40</td><td>3</td><td>1</td><td>⋯</td><td>80</td><td>1</td><td> 6</td><td>3</td><td>3</td><td> 2</td><td>2</td><td>2</td><td>2</td><td>0</td></tr>\n",
       "\t<tr><td>32</td><td>1005</td><td>2</td><td>2</td><td>1</td><td>8</td><td>4</td><td>79</td><td>3</td><td>1</td><td>⋯</td><td>80</td><td>0</td><td> 8</td><td>2</td><td>2</td><td> 7</td><td>7</td><td>3</td><td>6</td><td>0</td></tr>\n",
       "</tbody>\n",
       "</table>\n"
      ],
      "text/latex": [
       "A data.frame: 6 × 27\n",
       "\\begin{tabular}{r|lllllllllllllllllllllllllll}\n",
       " Age & DailyRate & DistanceFromHome & Education & EmployeeCount & EmployeeNumber & EnvironmentSatisfaction & HourlyRate & JobInvolvement & JobLevel & JobSatisfaction & MonthlyIncome & MonthlyRate & NumCompaniesWorked & PercentSalaryHike & PerformanceRating & RelationshipSatisfaction & StandardHours & StockOptionLevel & TotalWorkingYears & TrainingTimesLastYear & WorkLifeBalance & YearsAtCompany & YearsInCurrentRole & YearsSinceLastPromotion & YearsWithCurrManager & AttritionInt\\\\\n",
       " <int> & <int> & <int> & <int> & <int> & <int> & <int> & <int> & <int> & <int> & <int> & <int> & <int> & <int> & <int> & <int> & <int> & <int> & <int> & <int> & <int> & <int> & <int> & <int> & <int> & <int> & <dbl>\\\\\n",
       "\\hline\n",
       "\t 41 & 1102 & 1 & 2 & 1 & 1 & 2 & 94 & 3 & 2 & 4 & 5993 & 19479 & 8 & 11 & 3 & 1 & 80 & 0 &  8 & 0 & 1 &  6 & 4 & 0 & 5 & 1\\\\\n",
       "\t 49 &  279 & 8 & 1 & 1 & 2 & 3 & 61 & 2 & 2 & 2 & 5130 & 24907 & 1 & 23 & 4 & 4 & 80 & 1 & 10 & 3 & 3 & 10 & 7 & 1 & 7 & 0\\\\\n",
       "\t 37 & 1373 & 2 & 2 & 1 & 4 & 4 & 92 & 2 & 1 & 3 & 2090 &  2396 & 6 & 15 & 3 & 2 & 80 & 0 &  7 & 3 & 3 &  0 & 0 & 0 & 0 & 1\\\\\n",
       "\t 33 & 1392 & 3 & 4 & 1 & 5 & 4 & 56 & 3 & 1 & 3 & 2909 & 23159 & 1 & 11 & 3 & 3 & 80 & 0 &  8 & 3 & 3 &  8 & 7 & 3 & 0 & 0\\\\\n",
       "\t 27 &  591 & 2 & 1 & 1 & 7 & 1 & 40 & 3 & 1 & 2 & 3468 & 16632 & 9 & 12 & 3 & 4 & 80 & 1 &  6 & 3 & 3 &  2 & 2 & 2 & 2 & 0\\\\\n",
       "\t 32 & 1005 & 2 & 2 & 1 & 8 & 4 & 79 & 3 & 1 & 4 & 3068 & 11864 & 0 & 13 & 3 & 3 & 80 & 0 &  8 & 2 & 2 &  7 & 7 & 3 & 6 & 0\\\\\n",
       "\\end{tabular}\n"
      ],
      "text/markdown": [
       "\n",
       "A data.frame: 6 × 27\n",
       "\n",
       "| Age &lt;int&gt; | DailyRate &lt;int&gt; | DistanceFromHome &lt;int&gt; | Education &lt;int&gt; | EmployeeCount &lt;int&gt; | EmployeeNumber &lt;int&gt; | EnvironmentSatisfaction &lt;int&gt; | HourlyRate &lt;int&gt; | JobInvolvement &lt;int&gt; | JobLevel &lt;int&gt; | ⋯ ⋯ | StandardHours &lt;int&gt; | StockOptionLevel &lt;int&gt; | TotalWorkingYears &lt;int&gt; | TrainingTimesLastYear &lt;int&gt; | WorkLifeBalance &lt;int&gt; | YearsAtCompany &lt;int&gt; | YearsInCurrentRole &lt;int&gt; | YearsSinceLastPromotion &lt;int&gt; | YearsWithCurrManager &lt;int&gt; | AttritionInt &lt;dbl&gt; |\n",
       "|---|---|---|---|---|---|---|---|---|---|---|---|---|---|---|---|---|---|---|---|---|\n",
       "| 41 | 1102 | 1 | 2 | 1 | 1 | 2 | 94 | 3 | 2 | ⋯ | 80 | 0 |  8 | 0 | 1 |  6 | 4 | 0 | 5 | 1 |\n",
       "| 49 |  279 | 8 | 1 | 1 | 2 | 3 | 61 | 2 | 2 | ⋯ | 80 | 1 | 10 | 3 | 3 | 10 | 7 | 1 | 7 | 0 |\n",
       "| 37 | 1373 | 2 | 2 | 1 | 4 | 4 | 92 | 2 | 1 | ⋯ | 80 | 0 |  7 | 3 | 3 |  0 | 0 | 0 | 0 | 1 |\n",
       "| 33 | 1392 | 3 | 4 | 1 | 5 | 4 | 56 | 3 | 1 | ⋯ | 80 | 0 |  8 | 3 | 3 |  8 | 7 | 3 | 0 | 0 |\n",
       "| 27 |  591 | 2 | 1 | 1 | 7 | 1 | 40 | 3 | 1 | ⋯ | 80 | 1 |  6 | 3 | 3 |  2 | 2 | 2 | 2 | 0 |\n",
       "| 32 | 1005 | 2 | 2 | 1 | 8 | 4 | 79 | 3 | 1 | ⋯ | 80 | 0 |  8 | 2 | 2 |  7 | 7 | 3 | 6 | 0 |\n",
       "\n"
      ],
      "text/plain": [
       "  Age DailyRate DistanceFromHome Education EmployeeCount EmployeeNumber\n",
       "1 41  1102      1                2         1             1             \n",
       "2 49   279      8                1         1             2             \n",
       "3 37  1373      2                2         1             4             \n",
       "4 33  1392      3                4         1             5             \n",
       "5 27   591      2                1         1             7             \n",
       "6 32  1005      2                2         1             8             \n",
       "  EnvironmentSatisfaction HourlyRate JobInvolvement JobLevel ⋯ StandardHours\n",
       "1 2                       94         3              2        ⋯ 80           \n",
       "2 3                       61         2              2        ⋯ 80           \n",
       "3 4                       92         2              1        ⋯ 80           \n",
       "4 4                       56         3              1        ⋯ 80           \n",
       "5 1                       40         3              1        ⋯ 80           \n",
       "6 4                       79         3              1        ⋯ 80           \n",
       "  StockOptionLevel TotalWorkingYears TrainingTimesLastYear WorkLifeBalance\n",
       "1 0                 8                0                     1              \n",
       "2 1                10                3                     3              \n",
       "3 0                 7                3                     3              \n",
       "4 0                 8                3                     3              \n",
       "5 1                 6                3                     3              \n",
       "6 0                 8                2                     2              \n",
       "  YearsAtCompany YearsInCurrentRole YearsSinceLastPromotion\n",
       "1  6             4                  0                      \n",
       "2 10             7                  1                      \n",
       "3  0             0                  0                      \n",
       "4  8             7                  3                      \n",
       "5  2             2                  2                      \n",
       "6  7             7                  3                      \n",
       "  YearsWithCurrManager AttritionInt\n",
       "1 5                    1           \n",
       "2 7                    0           \n",
       "3 0                    1           \n",
       "4 0                    0           \n",
       "5 2                    0           \n",
       "6 6                    0           "
      ]
     },
     "metadata": {},
     "output_type": "display_data"
    }
   ],
   "source": [
    "# add a data frame column with Attrition coded as integers: 1 for \"Yes\" and 0 for \"No\"\n",
    "# this will allow us to make plots\n",
    "hr$AttritionInt = as.integer(hr$Attrition) - 1\n",
    "\n",
    "# select only columns with numeric data\n",
    "numeric_data = hr[,sapply(hr,is.numeric)]\n",
    "head(numeric_data)"
   ]
  },
  {
   "cell_type": "markdown",
   "metadata": {},
   "source": [
    "### Exploratory Analysis\n",
    "\n",
    "**Exploratory Data Analysis (EDA)** can help us get a sense of what data each column contains.\n",
    "\n",
    "The `summary` function displays summary statistics for each column. For **quantitative variables**, `summary` will show the minimum, maximum, mean, and quartiles. For **categorical variables**, `summary` shows the possible values and frequencies for each."
   ]
  },
  {
   "cell_type": "code",
   "execution_count": 7,
   "metadata": {},
   "outputs": [
    {
     "data": {
      "text/plain": [
       "      Age        Attrition            BusinessTravel   DailyRate     \n",
       " Min.   :18.00   No :1233   Non-Travel       : 150   Min.   : 102.0  \n",
       " 1st Qu.:30.00   Yes: 237   Travel_Frequently: 277   1st Qu.: 465.0  \n",
       " Median :36.00              Travel_Rarely    :1043   Median : 802.0  \n",
       " Mean   :36.92                                       Mean   : 802.5  \n",
       " 3rd Qu.:43.00                                       3rd Qu.:1157.0  \n",
       " Max.   :60.00                                       Max.   :1499.0  \n",
       "                                                                     \n",
       "                  Department  DistanceFromHome   Education    \n",
       " Human Resources       : 63   Min.   : 1.000   Min.   :1.000  \n",
       " Research & Development:961   1st Qu.: 2.000   1st Qu.:2.000  \n",
       " Sales                 :446   Median : 7.000   Median :3.000  \n",
       "                              Mean   : 9.193   Mean   :2.913  \n",
       "                              3rd Qu.:14.000   3rd Qu.:4.000  \n",
       "                              Max.   :29.000   Max.   :5.000  \n",
       "                                                              \n",
       "          EducationField EmployeeCount EmployeeNumber   EnvironmentSatisfaction\n",
       " Human Resources : 27    Min.   :1     Min.   :   1.0   Min.   :1.000          \n",
       " Life Sciences   :606    1st Qu.:1     1st Qu.: 491.2   1st Qu.:2.000          \n",
       " Marketing       :159    Median :1     Median :1020.5   Median :3.000          \n",
       " Medical         :464    Mean   :1     Mean   :1024.9   Mean   :2.722          \n",
       " Other           : 82    3rd Qu.:1     3rd Qu.:1555.8   3rd Qu.:4.000          \n",
       " Technical Degree:132    Max.   :1     Max.   :2068.0   Max.   :4.000          \n",
       "                                                                               \n",
       "    Gender      HourlyRate     JobInvolvement    JobLevel    \n",
       " Female:588   Min.   : 30.00   Min.   :1.00   Min.   :1.000  \n",
       " Male  :882   1st Qu.: 48.00   1st Qu.:2.00   1st Qu.:1.000  \n",
       "              Median : 66.00   Median :3.00   Median :2.000  \n",
       "              Mean   : 65.89   Mean   :2.73   Mean   :2.064  \n",
       "              3rd Qu.: 83.75   3rd Qu.:3.00   3rd Qu.:3.000  \n",
       "              Max.   :100.00   Max.   :4.00   Max.   :5.000  \n",
       "                                                             \n",
       "                      JobRole    JobSatisfaction  MaritalStatus MonthlyIncome  \n",
       " Sales Executive          :326   Min.   :1.000   Divorced:327   Min.   : 1009  \n",
       " Research Scientist       :292   1st Qu.:2.000   Married :673   1st Qu.: 2911  \n",
       " Laboratory Technician    :259   Median :3.000   Single  :470   Median : 4919  \n",
       " Manufacturing Director   :145   Mean   :2.729                  Mean   : 6503  \n",
       " Healthcare Representative:131   3rd Qu.:4.000                  3rd Qu.: 8379  \n",
       " Manager                  :102   Max.   :4.000                  Max.   :19999  \n",
       " (Other)                  :215                                                 \n",
       "  MonthlyRate    NumCompaniesWorked Over18   OverTime   PercentSalaryHike\n",
       " Min.   : 2094   Min.   :0.000      Y:1470   No :1054   Min.   :11.00    \n",
       " 1st Qu.: 8047   1st Qu.:1.000               Yes: 416   1st Qu.:12.00    \n",
       " Median :14236   Median :2.000                          Median :14.00    \n",
       " Mean   :14313   Mean   :2.693                          Mean   :15.21    \n",
       " 3rd Qu.:20462   3rd Qu.:4.000                          3rd Qu.:18.00    \n",
       " Max.   :26999   Max.   :9.000                          Max.   :25.00    \n",
       "                                                                         \n",
       " PerformanceRating RelationshipSatisfaction StandardHours StockOptionLevel\n",
       " Min.   :3.000     Min.   :1.000            Min.   :80    Min.   :0.0000  \n",
       " 1st Qu.:3.000     1st Qu.:2.000            1st Qu.:80    1st Qu.:0.0000  \n",
       " Median :3.000     Median :3.000            Median :80    Median :1.0000  \n",
       " Mean   :3.154     Mean   :2.712            Mean   :80    Mean   :0.7939  \n",
       " 3rd Qu.:3.000     3rd Qu.:4.000            3rd Qu.:80    3rd Qu.:1.0000  \n",
       " Max.   :4.000     Max.   :4.000            Max.   :80    Max.   :3.0000  \n",
       "                                                                          \n",
       " TotalWorkingYears TrainingTimesLastYear WorkLifeBalance YearsAtCompany  \n",
       " Min.   : 0.00     Min.   :0.000         Min.   :1.000   Min.   : 0.000  \n",
       " 1st Qu.: 6.00     1st Qu.:2.000         1st Qu.:2.000   1st Qu.: 3.000  \n",
       " Median :10.00     Median :3.000         Median :3.000   Median : 5.000  \n",
       " Mean   :11.28     Mean   :2.799         Mean   :2.761   Mean   : 7.008  \n",
       " 3rd Qu.:15.00     3rd Qu.:3.000         3rd Qu.:3.000   3rd Qu.: 9.000  \n",
       " Max.   :40.00     Max.   :6.000         Max.   :4.000   Max.   :40.000  \n",
       "                                                                         \n",
       " YearsInCurrentRole YearsSinceLastPromotion YearsWithCurrManager\n",
       " Min.   : 0.000     Min.   : 0.000          Min.   : 0.000      \n",
       " 1st Qu.: 2.000     1st Qu.: 0.000          1st Qu.: 2.000      \n",
       " Median : 3.000     Median : 1.000          Median : 3.000      \n",
       " Mean   : 4.229     Mean   : 2.188          Mean   : 4.123      \n",
       " 3rd Qu.: 7.000     3rd Qu.: 3.000          3rd Qu.: 7.000      \n",
       " Max.   :18.000     Max.   :15.000          Max.   :17.000      \n",
       "                                                                \n",
       "  AttritionInt   \n",
       " Min.   :0.0000  \n",
       " 1st Qu.:0.0000  \n",
       " Median :0.0000  \n",
       " Mean   :0.1612  \n",
       " 3rd Qu.:0.0000  \n",
       " Max.   :1.0000  \n",
       "                 "
      ]
     },
     "metadata": {},
     "output_type": "display_data"
    }
   ],
   "source": [
    "# show summary statistics for the data\n",
    "summary(hr)"
   ]
  },
  {
   "cell_type": "markdown",
   "metadata": {},
   "source": [
    "**Data visualization** can also be helpful to find relationships. **Box plots** show the distribution of values within a particular column of numerical data through their quartiles (thin horizontal lines on the next graph). The spacings between the different parts of the box indicate the degree of dispersion in the data. Outliers may be plotted as individual points."
   ]
  },
  {
   "cell_type": "code",
   "execution_count": 8,
   "metadata": {},
   "outputs": [
    {
     "ename": "ERROR",
     "evalue": "Error in `[.data.frame`(hr, , my_column): undefined columns selected\n",
     "output_type": "error",
     "traceback": [
      "Error in `[.data.frame`(hr, , my_column): undefined columns selected\nTraceback:\n",
      "1. boxplot(hr[, my_column], main = my_column)",
      "2. hr[, my_column]",
      "3. `[.data.frame`(hr, , my_column)",
      "4. stop(\"undefined columns selected\")"
     ]
    }
   ],
   "source": [
    "# replace the ... with the name of the column you want to visualize\n",
    "# capitalization counts!\n",
    "my_column = \"...\"\n",
    "\n",
    "# run this cell to see the distribution of values for your column\n",
    "boxplot(hr[,my_column],main=my_column)"
   ]
  },
  {
   "cell_type": "markdown",
   "metadata": {},
   "source": [
    "**Correlation plots** show the strength of linear relationships between variables. Each cell on the plot shows the correlation between 2 variables: positive correlations are shown in blue and negative correlations are shown in red. The intensity of the color shows the strength of the correlation. Each element on the diagonal is the correlation of a variable with itself, which is always equal to 1. In this case we will use circles to highlight variables that have no correlation. "
   ]
  },
  {
   "cell_type": "code",
   "execution_count": 9,
   "metadata": {},
   "outputs": [
    {
     "name": "stderr",
     "output_type": "stream",
     "text": [
      "Warning message in cor(numeric_data):\n",
      "“the standard deviation is zero”"
     ]
    },
    {
     "data": {
      "image/png": "[encoded data removed]",
      "text/plain": [
       "Plot with title “”"
      ]
     },
     "metadata": {},
     "output_type": "display_data"
    }
   ],
   "source": [
    "# create a correlation plot for quantitative variables\n",
    "correlations = cor(numeric_data)\n",
    "corrplot(correlations, method=\"circle\",type='upper',na.label = \"o\")"
   ]
  },
  {
   "cell_type": "markdown",
   "metadata": {},
   "source": [
    "<div class=\"alert alert-warning\">\n",
    "    <b>QUESTION</b>: TODO: add discussion question. Examples: which variables do you think will be most useful to predict attrition, and what do you base that on (EDA, prior knowledge, etc)? Do you see any outliers? Based on the data dictionary and your own knowledge, what are some possible sources of bias in the dataset that might affect this analysis?\n",
    "    </div>\n"
   ]
  },
  {
   "cell_type": "markdown",
   "metadata": {},
   "source": [
    "*YOUR ANSWER HERE* (double click)"
   ]
  },
  {
   "cell_type": "markdown",
   "metadata": {},
   "source": [
    "## <a class=\"sectionlogistic\"> Logistic Regression </a>"
   ]
  },
  {
   "cell_type": "markdown",
   "metadata": {},
   "source": [
    "**Logistic Regression** is used to model the probability associated to binary events, such as win/lose, pass/fail or attrition/no attrition. Logistic regressions take numeric variables as input and build a statistical model by expressing the dependent variable as a linear combination of the independent variables using the exponential function. In the following example, we will use a logistic model to calculate the probability of attrition for an employee."
   ]
  },
  {
   "cell_type": "markdown",
   "metadata": {},
   "source": [
    "### <a class=\"sectionex1\"> Example 1: predict by monthly income rate (univariate logistic regression) </a>\n",
    "\n",
    "Let's try predicting attrition based on the employee's monthly income.\n",
    "\n",
    "The first task is to write out the formula and save it as a variable. In this example, the name of the formula variable is `univar_formula`. The formula itself is to the right of the `=` and has the syntax:\n",
    "\n",
    "$$ \\text{response_variable} \\sim\\text{predictor_variable}$$\n",
    "\n",
    "That is, the name of the variable we want to predict is on the left of the tilde, and the name of the variable we're using to predict attrition is on the right."
   ]
  },
  {
   "cell_type": "code",
   "execution_count": 10,
   "metadata": {},
   "outputs": [],
   "source": [
    "# write the formula for univariate logistic regression\n",
    "univar_formula = AttritionInt ~ MonthlyIncome"
   ]
  },
  {
   "cell_type": "markdown",
   "metadata": {},
   "source": [
    "R provides a function called `glm` (for Generalized Linear Model) that will fit the data. The function takes three arguments:\n",
    "* the formula (symbolic description of the model)\n",
    "* `data` = the name of the data frame that holds our data\n",
    "* `family` = a description of the error distribution and link function to be used in the model. For logistic regression, we want `binomial`\n",
    "\n",
    "Run the following cell to fit the model."
   ]
  },
  {
   "cell_type": "code",
   "execution_count": 11,
   "metadata": {},
   "outputs": [],
   "source": [
    "# fit the model\n",
    "logreg_single = glm(univar_formula, \n",
    "              data = hr, # the dataset\n",
    "              family = binomial) # the type of model to use"
   ]
  },
  {
   "cell_type": "markdown",
   "metadata": {},
   "source": [
    "The `summary` function displays some information about the fit model. We will focus on the coefficients associated with the intercept and the independent variable. Similarly to the linear regression case, the intercept allows us to calculate the expected value of the probability when the independent variables are equal to zero and the coefficient of the independent variable shows us how much the outcome probability changes when the independent variable changes. The `summary` provides the following information: \n",
    "* **Estimate**: value of the coefficient obtained after training the model.\n",
    "* **Standard Error**: summarizes the deviation between the predicted values and the real observations. It can be used to build confidence intervals for the predictions.\n",
    "* **Z value**: normalized value used to run a hypothesis and check if there is a statistically significant relationship between the independent and dependent variable. The significance (next bullet) will allow us to check this relationship more directly. \n",
    "* **Significance (Pr(>|z|))**: obtained by checking the Z value on a standard normal table. If this value is below 5%, then we can affirm we are 95% confident that the coefficient of the independent variable is different from zero (i.e. there is a relationship between dependent and independent variables).   \n",
    "\n",
    "\n"
   ]
  },
  {
   "cell_type": "code",
   "execution_count": 12,
   "metadata": {},
   "outputs": [
    {
     "data": {
      "text/html": [
       "<table>\n",
       "<caption>A matrix: 2 × 4 of type dbl</caption>\n",
       "<thead>\n",
       "\t<tr><th></th><th scope=col>Estimate</th><th scope=col>Std. Error</th><th scope=col>z value</th><th scope=col>Pr(&gt;|z|)</th></tr>\n",
       "</thead>\n",
       "<tbody>\n",
       "\t<tr><th scope=row>(Intercept)</th><td>-0.9291087486</td><td>0.1292021393</td><td>-7.191125</td><td>6.425956e-13</td></tr>\n",
       "\t<tr><th scope=row>MonthlyIncome</th><td>-0.0001271042</td><td>0.0000216188</td><td>-5.879336</td><td>4.119147e-09</td></tr>\n",
       "</tbody>\n",
       "</table>\n"
      ],
      "text/latex": [
       "A matrix: 2 × 4 of type dbl\n",
       "\\begin{tabular}{r|llll}\n",
       "  & Estimate & Std. Error & z value & Pr(>\\textbar{}z\\textbar{})\\\\\n",
       "\\hline\n",
       "\t(Intercept) & -0.9291087486 & 0.1292021393 & -7.191125 & 6.425956e-13\\\\\n",
       "\tMonthlyIncome & -0.0001271042 & 0.0000216188 & -5.879336 & 4.119147e-09\\\\\n",
       "\\end{tabular}\n"
      ],
      "text/markdown": [
       "\n",
       "A matrix: 2 × 4 of type dbl\n",
       "\n",
       "| <!--/--> | Estimate | Std. Error | z value | Pr(&gt;|z|) |\n",
       "|---|---|---|---|---|\n",
       "| (Intercept) | -0.9291087486 | 0.1292021393 | -7.191125 | 6.425956e-13 |\n",
       "| MonthlyIncome | -0.0001271042 | 0.0000216188 | -5.879336 | 4.119147e-09 |\n",
       "\n"
      ],
      "text/plain": [
       "              Estimate      Std. Error   z value   Pr(>|z|)    \n",
       "(Intercept)   -0.9291087486 0.1292021393 -7.191125 6.425956e-13\n",
       "MonthlyIncome -0.0001271042 0.0000216188 -5.879336 4.119147e-09"
      ]
     },
     "metadata": {},
     "output_type": "display_data"
    }
   ],
   "source": [
    "# show some summary information about the fit model\n",
    "summary(logreg_single)$coeff"
   ]
  },
  {
   "cell_type": "markdown",
   "metadata": {},
   "source": [
    "The `predict` function makes predictions using our fitted model. It has two arguments:\n",
    "* the fitted logistic regression model\n",
    "* `type` = the format of our predictions. By selecting \"response\", we will get back a probability between 0 (i.e. no predicted chance of attrition) and 1 (100% predicted chance of attrition)"
   ]
  },
  {
   "cell_type": "code",
   "execution_count": 31,
   "metadata": {},
   "outputs": [
    {
     "data": {
      "text/html": [
       "<dl class=dl-horizontal>\n",
       "\t<dt>1</dt>\n",
       "\t\t<dd>0.155664874420095</dd>\n",
       "\t<dt>2</dt>\n",
       "\t\t<dd>0.170632232501251</dd>\n",
       "\t<dt>3</dt>\n",
       "\t\t<dd>0.232409326214141</dd>\n",
       "\t<dt>4</dt>\n",
       "\t\t<dd>0.214357819747282</dd>\n",
       "\t<dt>5</dt>\n",
       "\t\t<dd>0.202635033357612</dd>\n",
       "\t<dt>6</dt>\n",
       "\t\t<dd>0.21097400561898</dd>\n",
       "</dl>\n"
      ],
      "text/latex": [
       "\\begin{description*}\n",
       "\\item[1] 0.155664874420095\n",
       "\\item[2] 0.170632232501251\n",
       "\\item[3] 0.232409326214141\n",
       "\\item[4] 0.214357819747282\n",
       "\\item[5] 0.202635033357612\n",
       "\\item[6] 0.21097400561898\n",
       "\\end{description*}\n"
      ],
      "text/markdown": [
       "1\n",
       ":   0.1556648744200952\n",
       ":   0.1706322325012513\n",
       ":   0.2324093262141414\n",
       ":   0.2143578197472825\n",
       ":   0.2026350333576126\n",
       ":   0.21097400561898\n",
       "\n"
      ],
      "text/plain": [
       "        1         2         3         4         5         6 \n",
       "0.1556649 0.1706322 0.2324093 0.2143578 0.2026350 0.2109740 "
      ]
     },
     "metadata": {},
     "output_type": "display_data"
    }
   ],
   "source": [
    "# use the model to predict attrition\n",
    "single_probs = predict(logreg_single, hr, type = \"response\")\n",
    "\n",
    "# show the probabilities of attrition for the first six employees in the dataset\n",
    "head(single_probs)"
   ]
  },
  {
   "cell_type": "markdown",
   "metadata": {},
   "source": [
    "We can view the range of predicted probabilities with a box plot. "
   ]
  },
  {
   "cell_type": "code",
   "execution_count": 32,
   "metadata": {},
   "outputs": [
    {
     "data": {
      "image/png": "[encoded data removed]",
      "text/plain": [
       "plot without title"
      ]
     },
     "metadata": {},
     "output_type": "display_data"
    }
   ],
   "source": [
    "# show the range of predictions\n",
    "boxplot(single_probs)"
   ]
  },
  {
   "cell_type": "markdown",
   "metadata": {},
   "source": [
    "Having a predicted probability is interesting, but ideally we want our predictions to be in the same form as our original `Attrition` variable: either \"Yes\" or \"No\" values. This allows us to directly measure the accuracy of our model by comparing our predictions with the true outcomes. It also allows us to make HR decisions. \n",
    "\n",
    "There are a few ways to transform our probabilities into \"Yes\"/\"No\" values:\n",
    "\n",
    "- We might decide that any probablity above a certain threshold will be coded as \"Yes\". For example, if the predicted probability is at least 0.24, we would predict attrition.\n",
    "- If we believe that a certain proportion of staff are likely to leave the company, we might decide to code the top $n$ percent of predictions as \"Yes\". For example, if we know that last year we lost 5% of employees to attrition, we could predict attrition this year for the 5% of employees with the highest predicted probability.\n",
    "\n",
    "<div class=\"alert alert-warning\">\n",
    "    <b>QUESTION</b>: What method do you think is best for interpreting the probabilities, and why? You may suggest a different method from the two listed above.\n",
    "    </div>\n"
   ]
  },
  {
   "cell_type": "markdown",
   "metadata": {},
   "source": [
    "*YOUR ANSWER HERE*"
   ]
  },
  {
   "cell_type": "markdown",
   "metadata": {},
   "source": [
    "In this example, we'll try coding any employee with a probability of at least 0.22 as likely to leave."
   ]
  },
  {
   "cell_type": "code",
   "execution_count": 33,
   "metadata": {},
   "outputs": [
    {
     "data": {
      "text/html": [
       "<table>\n",
       "<caption>A data.frame: 6 × 2</caption>\n",
       "<thead>\n",
       "\t<tr><th scope=col>single_probs</th><th scope=col>single_preds</th></tr>\n",
       "\t<tr><th scope=col>&lt;dbl&gt;</th><th scope=col>&lt;fct&gt;</th></tr>\n",
       "</thead>\n",
       "<tbody>\n",
       "\t<tr><td>0.1556649</td><td>No </td></tr>\n",
       "\t<tr><td>0.1706322</td><td>No </td></tr>\n",
       "\t<tr><td>0.2324093</td><td>Yes</td></tr>\n",
       "\t<tr><td>0.2143578</td><td>No </td></tr>\n",
       "\t<tr><td>0.2026350</td><td>No </td></tr>\n",
       "\t<tr><td>0.2109740</td><td>No </td></tr>\n",
       "</tbody>\n",
       "</table>\n"
      ],
      "text/latex": [
       "A data.frame: 6 × 2\n",
       "\\begin{tabular}{r|ll}\n",
       " single\\_probs & single\\_preds\\\\\n",
       " <dbl> & <fct>\\\\\n",
       "\\hline\n",
       "\t 0.1556649 & No \\\\\n",
       "\t 0.1706322 & No \\\\\n",
       "\t 0.2324093 & Yes\\\\\n",
       "\t 0.2143578 & No \\\\\n",
       "\t 0.2026350 & No \\\\\n",
       "\t 0.2109740 & No \\\\\n",
       "\\end{tabular}\n"
      ],
      "text/markdown": [
       "\n",
       "A data.frame: 6 × 2\n",
       "\n",
       "| single_probs &lt;dbl&gt; | single_preds &lt;fct&gt; |\n",
       "|---|---|\n",
       "| 0.1556649 | No  |\n",
       "| 0.1706322 | No  |\n",
       "| 0.2324093 | Yes |\n",
       "| 0.2143578 | No  |\n",
       "| 0.2026350 | No  |\n",
       "| 0.2109740 | No  |\n",
       "\n"
      ],
      "text/plain": [
       "  single_probs single_preds\n",
       "1 0.1556649    No          \n",
       "2 0.1706322    No          \n",
       "3 0.2324093    Yes         \n",
       "4 0.2143578    No          \n",
       "5 0.2026350    No          \n",
       "6 0.2109740    No          "
      ]
     },
     "metadata": {},
     "output_type": "display_data"
    }
   ],
   "source": [
    "# create a categorical variable: \"Yes\" if probability of attrition is > 0.23, \"No\" otherwise\n",
    "single_preds = ifelse(single_probs > 0.22, \"Yes\", \"No\")\n",
    "\n",
    "# show the first six items in the probability and prediction vectors for our single variable model\n",
    "head(data.frame(single_probs, single_preds))"
   ]
  },
  {
   "cell_type": "markdown",
   "metadata": {},
   "source": [
    "One way to check our accuracy is to calculate how many predictions were correct out of the total number of predictions. This will take two steps:\n",
    "1. for each prediction, check if it equals the actual value (`single_preds == hr[, \"Attrition\"]`)\n",
    "2. add up the number of correct predictions and divide it by the total predictions (`mean`)\n",
    "\n",
    "The resulting number is the proportion of correct predictions."
   ]
  },
  {
   "cell_type": "code",
   "execution_count": 34,
   "metadata": {},
   "outputs": [
    {
     "data": {
      "text/html": [
       "0.769387755102041"
      ],
      "text/latex": [
       "0.769387755102041"
      ],
      "text/markdown": [
       "0.769387755102041"
      ],
      "text/plain": [
       "[1] 0.7693878"
      ]
     },
     "metadata": {},
     "output_type": "display_data"
    }
   ],
   "source": [
    "# show the proportion of correct predictions\n",
    "mean(single_preds == hr[, \"Attrition\"])"
   ]
  },
  {
   "cell_type": "markdown",
   "metadata": {},
   "source": [
    "It can also be useful to see in what ways our model is correct or incorrect. We can visualize this with a **confusion matrix**. Each row shows the instances of the predicted attrition, and each column shows the instances of the actual attrition. The matrix values are the counts. So:\n",
    "- the value in row one, column one is the *true negatives*: the number of employees who were predicted to stay at the company and actually did stay\n",
    "- the value in row one, column two is the *false negatives*: number of employees who were predicted to stay and actually left \n",
    "- the value in row two, column one is the *false positives*: employees who were predicted to leave but didn't\n",
    "- the value in row two, column two is the *true positives*: employees who were predicted to leave and did\n",
    "\n",
    "<img src=\"images/confusion-matrix.jpg\" />"
   ]
  },
  {
   "cell_type": "code",
   "execution_count": 35,
   "metadata": {},
   "outputs": [
    {
     "data": {
      "text/plain": [
       "            \n",
       "single_preds   No  Yes\n",
       "         No  1045  151\n",
       "         Yes  188   86"
      ]
     },
     "metadata": {},
     "output_type": "display_data"
    }
   ],
   "source": [
    "# create a confusion matrix for our predictions (rows) vs the actual values (columns)\n",
    "table(single_preds, hr[, \"Attrition\"])\n"
   ]
  },
  {
   "cell_type": "markdown",
   "metadata": {},
   "source": [
    "Another metric used to evaluate how good the model fits the data is the R-squared (R^2), which summarizes the proportion of variance in the dependent variable associated with the independent variables. Larger R-squared values indicate that more of the variation is explained by the model, to a maximum of 1. Because R-squared is generally used on numerical data, in this case we will use a modified version of R-squared (Nagelkerke) to evaluate our model."
   ]
  },
  {
   "cell_type": "code",
   "execution_count": 36,
   "metadata": {},
   "outputs": [
    {
     "data": {
      "text/html": [
       "0.0519408366804252"
      ],
      "text/latex": [
       "0.0519408366804252"
      ],
      "text/markdown": [
       "0.0519408366804252"
      ],
      "text/plain": [
       "[1] 0.05194084"
      ]
     },
     "metadata": {},
     "output_type": "display_data"
    }
   ],
   "source": [
    "NagelkerkeR2(logreg_single)$R2"
   ]
  },
  {
   "cell_type": "markdown",
   "metadata": {},
   "source": [
    "<div class=\"alert alert-warning\">\n",
    "    <b>QUESTION</b>: TODO- add/edit discussion question. Examples- How would you rate the accuracy of this model? Would you recommend this model be used in the company's HR department, and why or why not? What is a \"good\" accuracy for a model like this, and why might it be important to decide that before conducting analysis? What are some pros and cons to this model (i.e. using Monthly Income to predict attrition), and what are possible assumptions and biases associated with it? What does the R-squared value suggest?\n",
    "    </div>"
   ]
  },
  {
   "cell_type": "markdown",
   "metadata": {},
   "source": [
    "*YOUR ANSWER HERE*"
   ]
  },
  {
   "cell_type": "markdown",
   "metadata": {},
   "source": [
    "### <a id=\"sectionex2\"> Example 2: Predict By Monthly Income, Work-Life Balance, and Years at Company (multivariate logistic regression) </a>"
   ]
  },
  {
   "cell_type": "markdown",
   "metadata": {},
   "source": [
    "Perhaps we could do better if we used more predictor variables. In this example, we'll attempt to predict attrition based on the employee's monthly income, work-life balance, and number of years with the company.\n",
    "\n",
    "The nice thing about using a programming language like R is that the large majority of the code used for the univariate model will work for a multivariate model. The main thing that needs to change is the initial formula fed into the model.\n",
    "\n",
    "As before, our first step is to write the formula and give it a name. Here, the name of the formula variable is `multivar_formula`, and the additional predictor variables are added using `+`. So, for a formula with $n$ predictor variables, the formula would look like this:\n",
    "\n",
    "$$ \\text{response_variable} \\sim \\text{predictor_variable}_1 + \\text{predictor_variable}_2 + ... + \\text{predictor_variable}_n$$\n"
   ]
  },
  {
   "cell_type": "code",
   "execution_count": 46,
   "metadata": {},
   "outputs": [],
   "source": [
    "multi_formula = Attrition ~ MonthlyIncome + WorkLifeBalance + YearsAtCompany"
   ]
  },
  {
   "cell_type": "markdown",
   "metadata": {},
   "source": [
    "The rest of the steps are almost identical to our single variable model:\n",
    "\n",
    "1. **fit the model** to the data using the multivariate logistic regression formula\n",
    "2. use the fitted model to **predict** attrition for each employee\n",
    "3. **evaluate the model** by looking at summary data, the proportion of correct predictions, the confusion matrix, R-squared and plots of the results"
   ]
  },
  {
   "cell_type": "code",
   "execution_count": 47,
   "metadata": {},
   "outputs": [],
   "source": [
    "# fit the model\n",
    "logreg_multi = glm(multi_formula, \n",
    "              data = hr, # the dataset\n",
    "              family = binomial) # the type of model to use\n",
    "\n",
    "# use the model to predict attrition\n",
    "multi_probs = predict(logreg_multi, hr, type = \"response\")\n",
    "\n",
    "# create a categorical variable: \"Yes\" if probability of attrition is > 0.22, \"No\" otherwise\n",
    "multi_preds = ifelse(multi_probs > 0.22, \"Yes\", \"No\")"
   ]
  },
  {
   "cell_type": "code",
   "execution_count": 48,
   "metadata": {},
   "outputs": [
    {
     "data": {
      "text/html": [
       "0.75578231292517"
      ],
      "text/latex": [
       "0.75578231292517"
      ],
      "text/markdown": [
       "0.75578231292517"
      ],
      "text/plain": [
       "[1] 0.7557823"
      ]
     },
     "metadata": {},
     "output_type": "display_data"
    }
   ],
   "source": [
    "# show the proportion of correct predictions\n",
    "mean(multi_preds == hr[, \"Attrition\"])"
   ]
  },
  {
   "cell_type": "code",
   "execution_count": 49,
   "metadata": {},
   "outputs": [
    {
     "data": {
      "text/html": [
       "0.0664375895144758"
      ],
      "text/latex": [
       "0.0664375895144758"
      ],
      "text/markdown": [
       "0.0664375895144758"
      ],
      "text/plain": [
       "[1] 0.06643759"
      ]
     },
     "metadata": {},
     "output_type": "display_data"
    }
   ],
   "source": [
    "NagelkerkeR2(logreg_multi)$R2"
   ]
  },
  {
   "cell_type": "markdown",
   "metadata": {},
   "source": [
    "<div class=\"alert alert-warning\">\n",
    "    <b>QUESTION</b>: TODO- add/edit discussion question. Examples- Why wouldn't we want to just use all the variables as predictors?\n",
    "    </div>"
   ]
  },
  {
   "cell_type": "markdown",
   "metadata": {},
   "source": [
    "*YOUR ANSWER HERE*"
   ]
  },
  {
   "cell_type": "markdown",
   "metadata": {},
   "source": [
    "---"
   ]
  },
  {
   "cell_type": "markdown",
   "metadata": {},
   "source": [
    "## <a id=\"sectionmake\"> 4. Make Your Own Model </a>"
   ]
  },
  {
   "cell_type": "markdown",
   "metadata": {},
   "source": [
    "Now that you've seen some examples, try making and evaluating your own model. Most of the code has been provided for you (you might notice that it looks extremely similar to the univariate model). However, you will need to do the following:\n",
    "\n",
    "1. Choose at least one variable as a predictor (and justify your choice)\n",
    "2. Run the cells to train the model and generate probablities\n",
    "3. Choose a method for interpreting attrition probabilities (and justify your choice)\n",
    "4. Run the cells to generate model metrics and visualizations, and analyze your model"
   ]
  },
  {
   "cell_type": "markdown",
   "metadata": {},
   "source": [
    "### Write the formula\n",
    "\n",
    "Start by writing the formula for your logistic regression model.\n",
    "\n",
    "Remember, the syntax for the formula is: \n",
    "\n",
    "$$ \\text{response_variable} \\sim \\text{predictor_variable}_1 + \\text{predictor_variable}_2 + ... + \\text{predictor_variable}_n$$\n",
    "\n",
    "where the predictor variables are the names of the columns you want to use (spelling and capitalization count!)\n",
    "\n",
    "You may want to revisit the <a id=\"sectionEDA\">Exploratory Analysis</a> section to refresh your memory on the values and relationships of the possible predictor variables. You can also quickly see all possible variable names by running the following cell:"
   ]
  },
  {
   "cell_type": "code",
   "execution_count": 27,
   "metadata": {},
   "outputs": [
    {
     "data": {
      "text/html": [
       "<ol class=list-inline>\n",
       "\t<li>'Age'</li>\n",
       "\t<li>'Attrition'</li>\n",
       "\t<li>'BusinessTravel'</li>\n",
       "\t<li>'DailyRate'</li>\n",
       "\t<li>'Department'</li>\n",
       "\t<li>'DistanceFromHome'</li>\n",
       "\t<li>'Education'</li>\n",
       "\t<li>'EducationField'</li>\n",
       "\t<li>'EmployeeCount'</li>\n",
       "\t<li>'EmployeeNumber'</li>\n",
       "\t<li>'EnvironmentSatisfaction'</li>\n",
       "\t<li>'Gender'</li>\n",
       "\t<li>'HourlyRate'</li>\n",
       "\t<li>'JobInvolvement'</li>\n",
       "\t<li>'JobLevel'</li>\n",
       "\t<li>'JobRole'</li>\n",
       "\t<li>'JobSatisfaction'</li>\n",
       "\t<li>'MaritalStatus'</li>\n",
       "\t<li>'MonthlyIncome'</li>\n",
       "\t<li>'MonthlyRate'</li>\n",
       "\t<li>'NumCompaniesWorked'</li>\n",
       "\t<li>'Over18'</li>\n",
       "\t<li>'OverTime'</li>\n",
       "\t<li>'PercentSalaryHike'</li>\n",
       "\t<li>'PerformanceRating'</li>\n",
       "\t<li>'RelationshipSatisfaction'</li>\n",
       "\t<li>'StandardHours'</li>\n",
       "\t<li>'StockOptionLevel'</li>\n",
       "\t<li>'TotalWorkingYears'</li>\n",
       "\t<li>'TrainingTimesLastYear'</li>\n",
       "\t<li>'WorkLifeBalance'</li>\n",
       "\t<li>'YearsAtCompany'</li>\n",
       "\t<li>'YearsInCurrentRole'</li>\n",
       "\t<li>'YearsSinceLastPromotion'</li>\n",
       "\t<li>'YearsWithCurrManager'</li>\n",
       "\t<li>'AttritionInt'</li>\n",
       "\t<li>'SinglePreds'</li>\n",
       "</ol>\n"
      ],
      "text/latex": [
       "\\begin{enumerate*}\n",
       "\\item 'Age'\n",
       "\\item 'Attrition'\n",
       "\\item 'BusinessTravel'\n",
       "\\item 'DailyRate'\n",
       "\\item 'Department'\n",
       "\\item 'DistanceFromHome'\n",
       "\\item 'Education'\n",
       "\\item 'EducationField'\n",
       "\\item 'EmployeeCount'\n",
       "\\item 'EmployeeNumber'\n",
       "\\item 'EnvironmentSatisfaction'\n",
       "\\item 'Gender'\n",
       "\\item 'HourlyRate'\n",
       "\\item 'JobInvolvement'\n",
       "\\item 'JobLevel'\n",
       "\\item 'JobRole'\n",
       "\\item 'JobSatisfaction'\n",
       "\\item 'MaritalStatus'\n",
       "\\item 'MonthlyIncome'\n",
       "\\item 'MonthlyRate'\n",
       "\\item 'NumCompaniesWorked'\n",
       "\\item 'Over18'\n",
       "\\item 'OverTime'\n",
       "\\item 'PercentSalaryHike'\n",
       "\\item 'PerformanceRating'\n",
       "\\item 'RelationshipSatisfaction'\n",
       "\\item 'StandardHours'\n",
       "\\item 'StockOptionLevel'\n",
       "\\item 'TotalWorkingYears'\n",
       "\\item 'TrainingTimesLastYear'\n",
       "\\item 'WorkLifeBalance'\n",
       "\\item 'YearsAtCompany'\n",
       "\\item 'YearsInCurrentRole'\n",
       "\\item 'YearsSinceLastPromotion'\n",
       "\\item 'YearsWithCurrManager'\n",
       "\\item 'AttritionInt'\n",
       "\\item 'SinglePreds'\n",
       "\\end{enumerate*}\n"
      ],
      "text/markdown": [
       "1. 'Age'\n",
       "2. 'Attrition'\n",
       "3. 'BusinessTravel'\n",
       "4. 'DailyRate'\n",
       "5. 'Department'\n",
       "6. 'DistanceFromHome'\n",
       "7. 'Education'\n",
       "8. 'EducationField'\n",
       "9. 'EmployeeCount'\n",
       "10. 'EmployeeNumber'\n",
       "11. 'EnvironmentSatisfaction'\n",
       "12. 'Gender'\n",
       "13. 'HourlyRate'\n",
       "14. 'JobInvolvement'\n",
       "15. 'JobLevel'\n",
       "16. 'JobRole'\n",
       "17. 'JobSatisfaction'\n",
       "18. 'MaritalStatus'\n",
       "19. 'MonthlyIncome'\n",
       "20. 'MonthlyRate'\n",
       "21. 'NumCompaniesWorked'\n",
       "22. 'Over18'\n",
       "23. 'OverTime'\n",
       "24. 'PercentSalaryHike'\n",
       "25. 'PerformanceRating'\n",
       "26. 'RelationshipSatisfaction'\n",
       "27. 'StandardHours'\n",
       "28. 'StockOptionLevel'\n",
       "29. 'TotalWorkingYears'\n",
       "30. 'TrainingTimesLastYear'\n",
       "31. 'WorkLifeBalance'\n",
       "32. 'YearsAtCompany'\n",
       "33. 'YearsInCurrentRole'\n",
       "34. 'YearsSinceLastPromotion'\n",
       "35. 'YearsWithCurrManager'\n",
       "36. 'AttritionInt'\n",
       "37. 'SinglePreds'\n",
       "\n",
       "\n"
      ],
      "text/plain": [
       " [1] \"Age\"                      \"Attrition\"               \n",
       " [3] \"BusinessTravel\"           \"DailyRate\"               \n",
       " [5] \"Department\"               \"DistanceFromHome\"        \n",
       " [7] \"Education\"                \"EducationField\"          \n",
       " [9] \"EmployeeCount\"            \"EmployeeNumber\"          \n",
       "[11] \"EnvironmentSatisfaction\"  \"Gender\"                  \n",
       "[13] \"HourlyRate\"               \"JobInvolvement\"          \n",
       "[15] \"JobLevel\"                 \"JobRole\"                 \n",
       "[17] \"JobSatisfaction\"          \"MaritalStatus\"           \n",
       "[19] \"MonthlyIncome\"            \"MonthlyRate\"             \n",
       "[21] \"NumCompaniesWorked\"       \"Over18\"                  \n",
       "[23] \"OverTime\"                 \"PercentSalaryHike\"       \n",
       "[25] \"PerformanceRating\"        \"RelationshipSatisfaction\"\n",
       "[27] \"StandardHours\"            \"StockOptionLevel\"        \n",
       "[29] \"TotalWorkingYears\"        \"TrainingTimesLastYear\"   \n",
       "[31] \"WorkLifeBalance\"          \"YearsAtCompany\"          \n",
       "[33] \"YearsInCurrentRole\"       \"YearsSinceLastPromotion\" \n",
       "[35] \"YearsWithCurrManager\"     \"AttritionInt\"            \n",
       "[37] \"SinglePreds\"             "
      ]
     },
     "metadata": {},
     "output_type": "display_data"
    }
   ],
   "source": [
    "# Run this cell if you want a list of all possible variable names\n",
    "names(hr)"
   ]
  },
  {
   "cell_type": "markdown",
   "metadata": {},
   "source": [
    "<div class=\"alert alert-warning\">\n",
    "    <b>TODO</b>: Complete the formula with your chosen predictor variables.\n",
    "    </div>"
   ]
  },
  {
   "cell_type": "code",
   "execution_count": 28,
   "metadata": {},
   "outputs": [],
   "source": [
    "# TODO: write the formula for your logistic regression model by replacing the ...\n",
    "my_formula = Attrition ~ ..."
   ]
  },
  {
   "cell_type": "markdown",
   "metadata": {},
   "source": [
    "<div class=\"alert alert-warning\">\n",
    "    <b>QUESTION</b>: TODO- add/edit discussion question. Which predictor variables did you choose, and why?\n",
    "    </div>"
   ]
  },
  {
   "cell_type": "markdown",
   "metadata": {},
   "source": [
    "*YOUR ANSWER HERE*"
   ]
  },
  {
   "cell_type": "markdown",
   "metadata": {},
   "source": [
    "### Fit the model\n",
    "\n",
    "Once your formula is complete, run the following cell to fit your model.\n",
    "\n",
    "If you get an error, double-check that you've run the cell that contains your formula, and that all the predictor variable names are spelled correctly."
   ]
  },
  {
   "cell_type": "code",
   "execution_count": 29,
   "metadata": {},
   "outputs": [
    {
     "ename": "ERROR",
     "evalue": "Error in eval(predvars, data, env): '...' used in an incorrect context\n",
     "output_type": "error",
     "traceback": [
      "Error in eval(predvars, data, env): '...' used in an incorrect context\nTraceback:\n",
      "1. glm(my_formula, data = hr, family = binomial)",
      "2. eval(mf, parent.frame())",
      "3. eval(mf, parent.frame())",
      "4. stats::model.frame(formula = my_formula, data = hr, drop.unused.levels = TRUE)",
      "5. model.frame.default(formula = my_formula, data = hr, drop.unused.levels = TRUE)",
      "6. eval(predvars, data, env)",
      "7. eval(predvars, data, env)"
     ]
    }
   ],
   "source": [
    "# fit the model\n",
    "logreg_mine = glm(my_formula, \n",
    "              data = hr, # the dataset\n",
    "              family = binomial) # the type of model to use"
   ]
  },
  {
   "cell_type": "markdown",
   "metadata": {},
   "source": [
    "Use the `summary` function to view some information about the fit model."
   ]
  },
  {
   "cell_type": "markdown",
   "metadata": {},
   "source": [
    "### Make predictions"
   ]
  },
  {
   "cell_type": "code",
   "execution_count": null,
   "metadata": {},
   "outputs": [],
   "source": [
    "# use the model to predict attrition\n",
    "my_probs = predict(logreg_mine, hr, type = \"response\")\n",
    "\n",
    "# show the probabilities of attrition for the first six employees in the dataset\n",
    "head(my_probs)"
   ]
  },
  {
   "cell_type": "markdown",
   "metadata": {},
   "source": [
    "View the range of predicted probabilities with a box plot. "
   ]
  },
  {
   "cell_type": "code",
   "execution_count": null,
   "metadata": {},
   "outputs": [],
   "source": [
    "# show the range of predictions\n",
    "boxplot(my_probs)"
   ]
  },
  {
   "cell_type": "markdown",
   "metadata": {},
   "source": [
    "<div class=\"alert alert-warning\">\n",
    "    <b>TODO</b>: Decide how to turn your probabilities into \"Yes\"/\"No\" predictions.\n",
    "    <ul>\n",
    "        <li> If you want to use the threshold method, set the <code>method</code> variable to \"threshold\" and set the <code>cutoff</code> variable to the minimum probability you would like to be coded as \"Yes\" (e.g. <code>cutoff = 0.4</code> would code all probabilities of 0.4 or higher as \"Yes\"</li>\n",
    "        <li> If you want to use the percentile method, set the <code>method</code> variable to \"percentile\", and set the <code>percentile</code> variable to the percentile above which you want to code as \"Yes\" (e.g if you want the bottom 95% of predictions to be \"No\" and the top 5% of predictions to be \"Yes\", <code>percentile=0.95</code></li>\n",
    "    </ul>\n",
    "    </div>"
   ]
  },
  {
   "cell_type": "code",
   "execution_count": null,
   "metadata": {},
   "outputs": [],
   "source": [
    "# replace the ... with either \"threshold\" or \"percentile\"\n",
    "method = ...\n",
    "\n",
    "# if you're using the threshold method, replace the ... with the \n",
    "# cutoff probability (a number between 0 and 1)\n",
    "cutoff = ...\n",
    "\n",
    "# if you're using the percentile method, replace the ... with\n",
    "# the dividing percentile (a number between 0 and 1)\n",
    "percentile = ...\n",
    "\n",
    "# create a categorical variable: \"Yes\" if probability of attrition is > 0.23, \"Yes\" otherwise\n",
    "if (method == \"threshold\") {\n",
    "    my_preds = ifelse(my_probs > cutoff, \"Yes\", \"No\")\n",
    "} else if (method == \"percentile\") {\n",
    "    pct_cutoff = quantile(my_probs, percentile)\n",
    "    my_preds = ifelse(my_probs > pct_cutoff, \"Yes\", \"No\")\n",
    "} else {\n",
    "    stop(\"method variable must be either \\\"threshold\\\" or \\\"percentile\\\"\")\n",
    "}\n",
    "\n",
    "# show the first six items in the probability and prediction vectors for our single variable model\n",
    "head(data.frame(my_probs, my_preds))"
   ]
  },
  {
   "cell_type": "code",
   "execution_count": null,
   "metadata": {},
   "outputs": [],
   "source": [
    "# show some summary information about the fit model\n",
    "summary(logreg_mine)"
   ]
  },
  {
   "cell_type": "markdown",
   "metadata": {},
   "source": [
    "Calculate the proportion of correct predictions."
   ]
  },
  {
   "cell_type": "code",
   "execution_count": null,
   "metadata": {},
   "outputs": [],
   "source": [
    "# show the proportion of correct predictions\n",
    "mean(my_preds == hr[, \"Attrition\"])"
   ]
  },
  {
   "cell_type": "markdown",
   "metadata": {},
   "source": [
    "Create the confusion matrix. Remember, the format is:\n",
    "\n",
    "<img src=\"images/confusion-matrix.jpg\" />"
   ]
  },
  {
   "cell_type": "code",
   "execution_count": null,
   "metadata": {},
   "outputs": [],
   "source": [
    "# create a confusion matrix for our predictions (rows) vs the actual values (columns)\n",
    "table(my_preds, hr[, \"Attrition\"])\n"
   ]
  },
  {
   "cell_type": "code",
   "execution_count": null,
   "metadata": {},
   "outputs": [],
   "source": [
    "NagelkerkeR2(logreg_mine)$R2"
   ]
  },
  {
   "cell_type": "markdown",
   "metadata": {},
   "source": [
    "<div class=\"alert alert-warning\">\n",
    "    <b>QUESTION</b>: TODO- add/edit discussion question. Examples- How would you rate the accuracy of this model? Would you recommend this model be used in the company's HR department, and why or why not? What is a \"good\" accuracy for a model like this, and why might it be important to decide that before conducting analysis? What are some pros and cons to this model (i.e. using Monthly Income to predict attrition), and what are possible assumptions and biases associated with it?\n",
    "    </div>"
   ]
  },
  {
   "cell_type": "markdown",
   "metadata": {},
   "source": [
    "*YOUR ANSWER HERE*"
   ]
  },
  {
   "cell_type": "markdown",
   "metadata": {},
   "source": [
    "----------"
   ]
  },
  {
   "cell_type": "markdown",
   "metadata": {},
   "source": [
    "Notebook created by <a href=\"mailto: heather.whiteman@berkeley.edu\">Heather Whiteman</a>, <a href=\"mailto: ktakimoto@berkeley.edu\">Keeley Takimoto</a> and <a href=\"mailto: ignacio.solis@berkeley.edu\">Ignacio Solis</a>.\n",
    "\n",
    "Some text adapted with permission from [materials made for Haas Executive Education's Data Science Online course by Keeley Takimoto](https://github.com/ktakimoto/haas-ds-online)."
   ]
  }
 ],
 "metadata": {
  "kernelspec": {
   "display_name": "R",
   "language": "R",
   "name": "ir"
  },
  "language_info": {
   "codemirror_mode": "r",
   "file_extension": ".r",
   "mimetype": "text/x-r-source",
   "name": "R",
   "pygments_lexer": "r",
   "version": "3.6.1"
  }
 },
 "nbformat": 4,
 "nbformat_minor": 2
}
